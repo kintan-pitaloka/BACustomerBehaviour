{
 "cells": [
  {
   "cell_type": "markdown",
   "id": "f436bbcc",
   "metadata": {
    "papermill": {
     "duration": 0.005568,
     "end_time": "2023-03-29T03:04:01.746485",
     "exception": false,
     "start_time": "2023-03-29T03:04:01.740917",
     "status": "completed"
    },
    "tags": []
   },
   "source": [
    "**This notebook is an exercise in the [SQL](https://www.kaggle.com/learn/intro-to-sql) course.  You can reference the tutorial at [this link](https://www.kaggle.com/dansbecker/getting-started-with-sql-and-bigquery).**\n",
    "\n",
    "---\n"
   ]
  },
  {
   "cell_type": "markdown",
   "id": "cbfb963d",
   "metadata": {
    "papermill": {
     "duration": 0.00441,
     "end_time": "2023-03-29T03:04:01.755748",
     "exception": false,
     "start_time": "2023-03-29T03:04:01.751338",
     "status": "completed"
    },
    "tags": []
   },
   "source": [
    "# Introduction\n",
    "\n",
    "The first test of your new data exploration skills uses data describing crime in the city of Chicago.\n",
    "\n",
    "Before you get started, run the following cell. It sets up the automated feedback system to review your answers."
   ]
  },
  {
   "cell_type": "code",
   "execution_count": 1,
   "id": "416ab8f7",
   "metadata": {
    "execution": {
     "iopub.execute_input": "2023-03-29T03:04:01.767352Z",
     "iopub.status.busy": "2023-03-29T03:04:01.766650Z",
     "iopub.status.idle": "2023-03-29T03:04:02.976275Z",
     "shell.execute_reply": "2023-03-29T03:04:02.975019Z"
    },
    "papermill": {
     "duration": 1.218239,
     "end_time": "2023-03-29T03:04:02.978726",
     "exception": false,
     "start_time": "2023-03-29T03:04:01.760487",
     "status": "completed"
    },
    "tags": []
   },
   "outputs": [
    {
     "name": "stdout",
     "output_type": "stream",
     "text": [
      "Using Kaggle's public dataset BigQuery integration.\n",
      "Setup Complete\n"
     ]
    }
   ],
   "source": [
    "# Set up feedack system\n",
    "from learntools.core import binder\n",
    "binder.bind(globals())\n",
    "from learntools.sql.ex1 import *\n",
    "print(\"Setup Complete\")"
   ]
  },
  {
   "cell_type": "markdown",
   "id": "dbd62072",
   "metadata": {
    "papermill": {
     "duration": 0.004668,
     "end_time": "2023-03-29T03:04:02.988613",
     "exception": false,
     "start_time": "2023-03-29T03:04:02.983945",
     "status": "completed"
    },
    "tags": []
   },
   "source": [
    "Use the next code cell to fetch the dataset."
   ]
  },
  {
   "cell_type": "code",
   "execution_count": 2,
   "id": "8742f37a",
   "metadata": {
    "execution": {
     "iopub.execute_input": "2023-03-29T03:04:03.000621Z",
     "iopub.status.busy": "2023-03-29T03:04:03.000178Z",
     "iopub.status.idle": "2023-03-29T03:04:03.384657Z",
     "shell.execute_reply": "2023-03-29T03:04:03.383846Z"
    },
    "papermill": {
     "duration": 0.393501,
     "end_time": "2023-03-29T03:04:03.386923",
     "exception": false,
     "start_time": "2023-03-29T03:04:02.993422",
     "status": "completed"
    },
    "tags": []
   },
   "outputs": [
    {
     "name": "stdout",
     "output_type": "stream",
     "text": [
      "Using Kaggle's public dataset BigQuery integration.\n"
     ]
    }
   ],
   "source": [
    "from google.cloud import bigquery\n",
    "\n",
    "# Create a \"Client\" object\n",
    "client = bigquery.Client()\n",
    "\n",
    "# Construct a reference to the \"chicago_crime\" dataset\n",
    "dataset_ref = client.dataset(\"chicago_crime\", project=\"bigquery-public-data\")\n",
    "\n",
    "# API request - fetch the dataset\n",
    "dataset = client.get_dataset(dataset_ref)"
   ]
  },
  {
   "cell_type": "markdown",
   "id": "e96c14cc",
   "metadata": {
    "papermill": {
     "duration": 0.004878,
     "end_time": "2023-03-29T03:04:03.397039",
     "exception": false,
     "start_time": "2023-03-29T03:04:03.392161",
     "status": "completed"
    },
    "tags": []
   },
   "source": [
    "# Exercises\n",
    "\n",
    "### 1) Count tables in the dataset\n",
    "\n",
    "How many tables are in the Chicago Crime dataset?"
   ]
  },
  {
   "cell_type": "code",
   "execution_count": 3,
   "id": "b00fea45",
   "metadata": {
    "execution": {
     "iopub.execute_input": "2023-03-29T03:04:03.409012Z",
     "iopub.status.busy": "2023-03-29T03:04:03.408287Z",
     "iopub.status.idle": "2023-03-29T03:04:03.778395Z",
     "shell.execute_reply": "2023-03-29T03:04:03.777268Z"
    },
    "papermill": {
     "duration": 0.378554,
     "end_time": "2023-03-29T03:04:03.780763",
     "exception": false,
     "start_time": "2023-03-29T03:04:03.402209",
     "status": "completed"
    },
    "tags": []
   },
   "outputs": [],
   "source": [
    "# Write the code you need here to figure out the answer\n",
    "tables = list(client.list_tables(dataset))"
   ]
  },
  {
   "cell_type": "code",
   "execution_count": 4,
   "id": "49a6929b",
   "metadata": {
    "execution": {
     "iopub.execute_input": "2023-03-29T03:04:03.792032Z",
     "iopub.status.busy": "2023-03-29T03:04:03.791736Z",
     "iopub.status.idle": "2023-03-29T03:04:03.796701Z",
     "shell.execute_reply": "2023-03-29T03:04:03.795750Z"
    },
    "papermill": {
     "duration": 0.012714,
     "end_time": "2023-03-29T03:04:03.798511",
     "exception": false,
     "start_time": "2023-03-29T03:04:03.785797",
     "status": "completed"
    },
    "tags": []
   },
   "outputs": [
    {
     "name": "stdout",
     "output_type": "stream",
     "text": [
      "crime\n"
     ]
    }
   ],
   "source": [
    "for table in tables:\n",
    "\n",
    "    print(table.table_id)"
   ]
  },
  {
   "cell_type": "code",
   "execution_count": 5,
   "id": "c5bb7f83",
   "metadata": {
    "execution": {
     "iopub.execute_input": "2023-03-29T03:04:03.809832Z",
     "iopub.status.busy": "2023-03-29T03:04:03.808881Z",
     "iopub.status.idle": "2023-03-29T03:04:03.817902Z",
     "shell.execute_reply": "2023-03-29T03:04:03.817210Z"
    },
    "papermill": {
     "duration": 0.016402,
     "end_time": "2023-03-29T03:04:03.819654",
     "exception": false,
     "start_time": "2023-03-29T03:04:03.803252",
     "status": "completed"
    },
    "tags": []
   },
   "outputs": [
    {
     "data": {
      "application/javascript": [
       "parent.postMessage({\"jupyterEvent\": \"custom.exercise_interaction\", \"data\": {\"outcomeType\": 1, \"valueTowardsCompletion\": 0.3333333333333333, \"interactionType\": 1, \"questionType\": 1, \"questionId\": \"1_CountTables\", \"learnToolsVersion\": \"0.3.4\", \"failureMessage\": \"\", \"exceptionClass\": \"\", \"trace\": \"\"}}, \"*\")"
      ],
      "text/plain": [
       "<IPython.core.display.Javascript object>"
      ]
     },
     "metadata": {},
     "output_type": "display_data"
    },
    {
     "data": {
      "text/markdown": [
       "<span style=\"color:#33cc33\">Correct</span>"
      ],
      "text/plain": [
       "Correct"
      ]
     },
     "metadata": {},
     "output_type": "display_data"
    }
   ],
   "source": [
    "num_tables = 1  # Store the answer as num_tables and then run this cell\n",
    "\n",
    "# Check your answer\n",
    "q_1.check()"
   ]
  },
  {
   "cell_type": "markdown",
   "id": "8fe1b2bf",
   "metadata": {
    "papermill": {
     "duration": 0.004861,
     "end_time": "2023-03-29T03:04:03.829722",
     "exception": false,
     "start_time": "2023-03-29T03:04:03.824861",
     "status": "completed"
    },
    "tags": []
   },
   "source": [
    "For a hint or the solution, uncomment the appropriate line below."
   ]
  },
  {
   "cell_type": "code",
   "execution_count": 6,
   "id": "2ea09067",
   "metadata": {
    "execution": {
     "iopub.execute_input": "2023-03-29T03:04:03.842630Z",
     "iopub.status.busy": "2023-03-29T03:04:03.841712Z",
     "iopub.status.idle": "2023-03-29T03:04:03.854102Z",
     "shell.execute_reply": "2023-03-29T03:04:03.853188Z"
    },
    "papermill": {
     "duration": 0.021155,
     "end_time": "2023-03-29T03:04:03.855971",
     "exception": false,
     "start_time": "2023-03-29T03:04:03.834816",
     "status": "completed"
    },
    "tags": []
   },
   "outputs": [
    {
     "data": {
      "application/javascript": [
       "parent.postMessage({\"jupyterEvent\": \"custom.exercise_interaction\", \"data\": {\"interactionType\": 2, \"questionType\": 1, \"questionId\": \"1_CountTables\", \"learnToolsVersion\": \"0.3.4\", \"valueTowardsCompletion\": 0.0, \"failureMessage\": \"\", \"exceptionClass\": \"\", \"trace\": \"\", \"outcomeType\": 4}}, \"*\")"
      ],
      "text/plain": [
       "<IPython.core.display.Javascript object>"
      ]
     },
     "metadata": {},
     "output_type": "display_data"
    },
    {
     "data": {
      "text/markdown": [
       "<span style=\"color:#3366cc\">Hint:</span> Use the `list_tables()` method to get a list of the tables in the dataset."
      ],
      "text/plain": [
       "Hint: Use the `list_tables()` method to get a list of the tables in the dataset."
      ]
     },
     "metadata": {},
     "output_type": "display_data"
    },
    {
     "data": {
      "application/javascript": [
       "parent.postMessage({\"jupyterEvent\": \"custom.exercise_interaction\", \"data\": {\"interactionType\": 3, \"questionType\": 1, \"questionId\": \"1_CountTables\", \"learnToolsVersion\": \"0.3.4\", \"valueTowardsCompletion\": 0.0, \"failureMessage\": \"\", \"exceptionClass\": \"\", \"trace\": \"\", \"outcomeType\": 4}}, \"*\")"
      ],
      "text/plain": [
       "<IPython.core.display.Javascript object>"
      ]
     },
     "metadata": {},
     "output_type": "display_data"
    },
    {
     "data": {
      "text/markdown": [
       "<span style=\"color:#33cc99\">Solution:</span> \n",
       "```python\n",
       "\n",
       "# List all the tables in the \"chicago_crime\" dataset\n",
       "tables = list(client.list_tables(dataset))\n",
       "\n",
       "# Print number of tables in the dataset\n",
       "print(len(tables))\n",
       "\n",
       "num_tables = 1\n",
       "\n",
       "```"
      ],
      "text/plain": [
       "Solution: \n",
       "```python\n",
       "\n",
       "# List all the tables in the \"chicago_crime\" dataset\n",
       "tables = list(client.list_tables(dataset))\n",
       "\n",
       "# Print number of tables in the dataset\n",
       "print(len(tables))\n",
       "\n",
       "num_tables = 1\n",
       "\n",
       "```"
      ]
     },
     "metadata": {},
     "output_type": "display_data"
    }
   ],
   "source": [
    "q_1.hint()\n",
    "q_1.solution()"
   ]
  },
  {
   "cell_type": "markdown",
   "id": "1ea8f2b5",
   "metadata": {
    "papermill": {
     "duration": 0.005278,
     "end_time": "2023-03-29T03:04:03.866979",
     "exception": false,
     "start_time": "2023-03-29T03:04:03.861701",
     "status": "completed"
    },
    "tags": []
   },
   "source": [
    "### 2) Explore the table schema\n",
    "\n",
    "How many columns in the `crime` table have `TIMESTAMP` data?"
   ]
  },
  {
   "cell_type": "code",
   "execution_count": 7,
   "id": "4501c4a8",
   "metadata": {
    "execution": {
     "iopub.execute_input": "2023-03-29T03:04:03.879560Z",
     "iopub.status.busy": "2023-03-29T03:04:03.879226Z",
     "iopub.status.idle": "2023-03-29T03:04:04.206233Z",
     "shell.execute_reply": "2023-03-29T03:04:04.205075Z"
    },
    "papermill": {
     "duration": 0.335941,
     "end_time": "2023-03-29T03:04:04.208382",
     "exception": false,
     "start_time": "2023-03-29T03:04:03.872441",
     "status": "completed"
    },
    "tags": []
   },
   "outputs": [
    {
     "name": "stdout",
     "output_type": "stream",
     "text": [
      "[SchemaField('unique_key', 'INTEGER', 'REQUIRED', None, (), None), SchemaField('case_number', 'STRING', 'NULLABLE', None, (), None), SchemaField('date', 'TIMESTAMP', 'NULLABLE', None, (), None), SchemaField('block', 'STRING', 'NULLABLE', None, (), None), SchemaField('iucr', 'STRING', 'NULLABLE', None, (), None), SchemaField('primary_type', 'STRING', 'NULLABLE', None, (), None), SchemaField('description', 'STRING', 'NULLABLE', None, (), None), SchemaField('location_description', 'STRING', 'NULLABLE', None, (), None), SchemaField('arrest', 'BOOLEAN', 'NULLABLE', None, (), None), SchemaField('domestic', 'BOOLEAN', 'NULLABLE', None, (), None), SchemaField('beat', 'INTEGER', 'NULLABLE', None, (), None), SchemaField('district', 'INTEGER', 'NULLABLE', None, (), None), SchemaField('ward', 'INTEGER', 'NULLABLE', None, (), None), SchemaField('community_area', 'INTEGER', 'NULLABLE', None, (), None), SchemaField('fbi_code', 'STRING', 'NULLABLE', None, (), None), SchemaField('x_coordinate', 'FLOAT', 'NULLABLE', None, (), None), SchemaField('y_coordinate', 'FLOAT', 'NULLABLE', None, (), None), SchemaField('year', 'INTEGER', 'NULLABLE', None, (), None), SchemaField('updated_on', 'TIMESTAMP', 'NULLABLE', None, (), None), SchemaField('latitude', 'FLOAT', 'NULLABLE', None, (), None), SchemaField('longitude', 'FLOAT', 'NULLABLE', None, (), None), SchemaField('location', 'STRING', 'NULLABLE', None, (), None)]\n"
     ]
    }
   ],
   "source": [
    "# Write the code to figure out the answer\n",
    "table_ref = dataset_ref.table(\"crime\")\n",
    "\n",
    "#API request\n",
    "table = client.get_table(table_ref)\n",
    "\n",
    "#print information\n",
    "print(table.schema)"
   ]
  },
  {
   "cell_type": "code",
   "execution_count": 8,
   "id": "c068c86d",
   "metadata": {
    "execution": {
     "iopub.execute_input": "2023-03-29T03:04:04.221447Z",
     "iopub.status.busy": "2023-03-29T03:04:04.221070Z",
     "iopub.status.idle": "2023-03-29T03:04:04.229962Z",
     "shell.execute_reply": "2023-03-29T03:04:04.228981Z"
    },
    "papermill": {
     "duration": 0.017769,
     "end_time": "2023-03-29T03:04:04.232024",
     "exception": false,
     "start_time": "2023-03-29T03:04:04.214255",
     "status": "completed"
    },
    "tags": []
   },
   "outputs": [
    {
     "data": {
      "application/javascript": [
       "parent.postMessage({\"jupyterEvent\": \"custom.exercise_interaction\", \"data\": {\"outcomeType\": 1, \"valueTowardsCompletion\": 0.3333333333333333, \"interactionType\": 1, \"questionType\": 1, \"questionId\": \"2_CountTimestampFields\", \"learnToolsVersion\": \"0.3.4\", \"failureMessage\": \"\", \"exceptionClass\": \"\", \"trace\": \"\"}}, \"*\")"
      ],
      "text/plain": [
       "<IPython.core.display.Javascript object>"
      ]
     },
     "metadata": {},
     "output_type": "display_data"
    },
    {
     "data": {
      "text/markdown": [
       "<span style=\"color:#33cc33\">Correct</span>"
      ],
      "text/plain": [
       "Correct"
      ]
     },
     "metadata": {},
     "output_type": "display_data"
    }
   ],
   "source": [
    "num_timestamp_fields = 2 # Put your answer here\n",
    "\n",
    "# Check your answer\n",
    "q_2.check()"
   ]
  },
  {
   "cell_type": "markdown",
   "id": "e6bc53be",
   "metadata": {
    "papermill": {
     "duration": 0.005936,
     "end_time": "2023-03-29T03:04:04.244270",
     "exception": false,
     "start_time": "2023-03-29T03:04:04.238334",
     "status": "completed"
    },
    "tags": []
   },
   "source": [
    "For a hint or the solution, uncomment the appropriate line below."
   ]
  },
  {
   "cell_type": "code",
   "execution_count": 9,
   "id": "3a134ffd",
   "metadata": {
    "execution": {
     "iopub.execute_input": "2023-03-29T03:04:04.258442Z",
     "iopub.status.busy": "2023-03-29T03:04:04.258061Z",
     "iopub.status.idle": "2023-03-29T03:04:04.270273Z",
     "shell.execute_reply": "2023-03-29T03:04:04.269374Z"
    },
    "papermill": {
     "duration": 0.021489,
     "end_time": "2023-03-29T03:04:04.272006",
     "exception": false,
     "start_time": "2023-03-29T03:04:04.250517",
     "status": "completed"
    },
    "tags": []
   },
   "outputs": [
    {
     "data": {
      "application/javascript": [
       "parent.postMessage({\"jupyterEvent\": \"custom.exercise_interaction\", \"data\": {\"interactionType\": 2, \"questionType\": 1, \"questionId\": \"2_CountTimestampFields\", \"learnToolsVersion\": \"0.3.4\", \"valueTowardsCompletion\": 0.0, \"failureMessage\": \"\", \"exceptionClass\": \"\", \"trace\": \"\", \"outcomeType\": 4}}, \"*\")"
      ],
      "text/plain": [
       "<IPython.core.display.Javascript object>"
      ]
     },
     "metadata": {},
     "output_type": "display_data"
    },
    {
     "data": {
      "text/markdown": [
       "<span style=\"color:#3366cc\">Hint:</span> Begin by fetching the `crime` table. Then take a look at the table schema, and check the field type of each column.  How many times does `'TIMESTAMP'` appear?"
      ],
      "text/plain": [
       "Hint: Begin by fetching the `crime` table. Then take a look at the table schema, and check the field type of each column.  How many times does `'TIMESTAMP'` appear?"
      ]
     },
     "metadata": {},
     "output_type": "display_data"
    },
    {
     "data": {
      "application/javascript": [
       "parent.postMessage({\"jupyterEvent\": \"custom.exercise_interaction\", \"data\": {\"interactionType\": 3, \"questionType\": 1, \"questionId\": \"2_CountTimestampFields\", \"learnToolsVersion\": \"0.3.4\", \"valueTowardsCompletion\": 0.0, \"failureMessage\": \"\", \"exceptionClass\": \"\", \"trace\": \"\", \"outcomeType\": 4}}, \"*\")"
      ],
      "text/plain": [
       "<IPython.core.display.Javascript object>"
      ]
     },
     "metadata": {},
     "output_type": "display_data"
    },
    {
     "data": {
      "text/markdown": [
       "<span style=\"color:#33cc99\">Solution:</span> \n",
       "```python\n",
       "\n",
       "# Construct a reference to the \"crime\" table\n",
       "table_ref = dataset_ref.table(\"crime\")\n",
       "\n",
       "# API request - fetch the table\n",
       "table = client.get_table(table_ref)\n",
       "\n",
       "# Print information on all the columns in the \"crime\" table in the \"chicago_crime\" dataset\n",
       "print(table.schema)\n",
       "\n",
       "num_timestamp_fields = 2\n",
       "\n",
       "```"
      ],
      "text/plain": [
       "Solution: \n",
       "```python\n",
       "\n",
       "# Construct a reference to the \"crime\" table\n",
       "table_ref = dataset_ref.table(\"crime\")\n",
       "\n",
       "# API request - fetch the table\n",
       "table = client.get_table(table_ref)\n",
       "\n",
       "# Print information on all the columns in the \"crime\" table in the \"chicago_crime\" dataset\n",
       "print(table.schema)\n",
       "\n",
       "num_timestamp_fields = 2\n",
       "\n",
       "```"
      ]
     },
     "metadata": {},
     "output_type": "display_data"
    }
   ],
   "source": [
    "q_2.hint()\n",
    "q_2.solution()"
   ]
  },
  {
   "cell_type": "markdown",
   "id": "5a13b7be",
   "metadata": {
    "papermill": {
     "duration": 0.006089,
     "end_time": "2023-03-29T03:04:04.284548",
     "exception": false,
     "start_time": "2023-03-29T03:04:04.278459",
     "status": "completed"
    },
    "tags": []
   },
   "source": [
    "### 3) Create a crime map\n",
    "\n",
    "If you wanted to create a map with a dot at the location of each crime, what are the names of the two fields you likely need to pull out of the `crime` table to plot the crimes on a map?"
   ]
  },
  {
   "cell_type": "code",
   "execution_count": 10,
   "id": "08904da9",
   "metadata": {
    "execution": {
     "iopub.execute_input": "2023-03-29T03:04:04.299081Z",
     "iopub.status.busy": "2023-03-29T03:04:04.298760Z",
     "iopub.status.idle": "2023-03-29T03:04:04.304425Z",
     "shell.execute_reply": "2023-03-29T03:04:04.303526Z"
    },
    "papermill": {
     "duration": 0.014854,
     "end_time": "2023-03-29T03:04:04.306081",
     "exception": false,
     "start_time": "2023-03-29T03:04:04.291227",
     "status": "completed"
    },
    "tags": []
   },
   "outputs": [
    {
     "data": {
      "text/plain": [
       "[SchemaField('unique_key', 'INTEGER', 'REQUIRED', None, (), None),\n",
       " SchemaField('case_number', 'STRING', 'NULLABLE', None, (), None),\n",
       " SchemaField('date', 'TIMESTAMP', 'NULLABLE', None, (), None),\n",
       " SchemaField('block', 'STRING', 'NULLABLE', None, (), None),\n",
       " SchemaField('iucr', 'STRING', 'NULLABLE', None, (), None),\n",
       " SchemaField('primary_type', 'STRING', 'NULLABLE', None, (), None),\n",
       " SchemaField('description', 'STRING', 'NULLABLE', None, (), None),\n",
       " SchemaField('location_description', 'STRING', 'NULLABLE', None, (), None),\n",
       " SchemaField('arrest', 'BOOLEAN', 'NULLABLE', None, (), None),\n",
       " SchemaField('domestic', 'BOOLEAN', 'NULLABLE', None, (), None),\n",
       " SchemaField('beat', 'INTEGER', 'NULLABLE', None, (), None),\n",
       " SchemaField('district', 'INTEGER', 'NULLABLE', None, (), None),\n",
       " SchemaField('ward', 'INTEGER', 'NULLABLE', None, (), None),\n",
       " SchemaField('community_area', 'INTEGER', 'NULLABLE', None, (), None),\n",
       " SchemaField('fbi_code', 'STRING', 'NULLABLE', None, (), None),\n",
       " SchemaField('x_coordinate', 'FLOAT', 'NULLABLE', None, (), None),\n",
       " SchemaField('y_coordinate', 'FLOAT', 'NULLABLE', None, (), None),\n",
       " SchemaField('year', 'INTEGER', 'NULLABLE', None, (), None),\n",
       " SchemaField('updated_on', 'TIMESTAMP', 'NULLABLE', None, (), None),\n",
       " SchemaField('latitude', 'FLOAT', 'NULLABLE', None, (), None),\n",
       " SchemaField('longitude', 'FLOAT', 'NULLABLE', None, (), None),\n",
       " SchemaField('location', 'STRING', 'NULLABLE', None, (), None)]"
      ]
     },
     "execution_count": 10,
     "metadata": {},
     "output_type": "execute_result"
    }
   ],
   "source": [
    "# Write the code here to explore the data so you can find the answer\n",
    "table.schema"
   ]
  },
  {
   "cell_type": "code",
   "execution_count": 11,
   "id": "5042936d",
   "metadata": {
    "execution": {
     "iopub.execute_input": "2023-03-29T03:04:04.320404Z",
     "iopub.status.busy": "2023-03-29T03:04:04.320069Z",
     "iopub.status.idle": "2023-03-29T03:04:04.326931Z",
     "shell.execute_reply": "2023-03-29T03:04:04.325821Z"
    },
    "papermill": {
     "duration": 0.015996,
     "end_time": "2023-03-29T03:04:04.328589",
     "exception": false,
     "start_time": "2023-03-29T03:04:04.312593",
     "status": "completed"
    },
    "tags": []
   },
   "outputs": [
    {
     "data": {
      "application/javascript": [
       "parent.postMessage({\"jupyterEvent\": \"custom.exercise_interaction\", \"data\": {\"outcomeType\": 1, \"valueTowardsCompletion\": 0.3333333333333333, \"interactionType\": 1, \"questionType\": 2, \"questionId\": \"3_IdentifyFieldsForPlotting\", \"learnToolsVersion\": \"0.3.4\", \"failureMessage\": \"\", \"exceptionClass\": \"\", \"trace\": \"\"}}, \"*\")"
      ],
      "text/plain": [
       "<IPython.core.display.Javascript object>"
      ]
     },
     "metadata": {},
     "output_type": "display_data"
    },
    {
     "data": {
      "text/markdown": [
       "<span style=\"color:#33cc33\">Correct</span>"
      ],
      "text/plain": [
       "Correct"
      ]
     },
     "metadata": {},
     "output_type": "display_data"
    }
   ],
   "source": [
    "fields_for_plotting = ['latitude', 'longitude'] # Put your answers here\n",
    "\n",
    "# Check your answer\n",
    "q_3.check()"
   ]
  },
  {
   "cell_type": "markdown",
   "id": "73d7980b",
   "metadata": {
    "papermill": {
     "duration": 0.00632,
     "end_time": "2023-03-29T03:04:04.341467",
     "exception": false,
     "start_time": "2023-03-29T03:04:04.335147",
     "status": "completed"
    },
    "tags": []
   },
   "source": [
    "For a hint or the solution, uncomment the appropriate line below."
   ]
  },
  {
   "cell_type": "code",
   "execution_count": 12,
   "id": "4ec94e1a",
   "metadata": {
    "execution": {
     "iopub.execute_input": "2023-03-29T03:04:04.355968Z",
     "iopub.status.busy": "2023-03-29T03:04:04.355637Z",
     "iopub.status.idle": "2023-03-29T03:04:04.364888Z",
     "shell.execute_reply": "2023-03-29T03:04:04.364247Z"
    },
    "papermill": {
     "duration": 0.018604,
     "end_time": "2023-03-29T03:04:04.366477",
     "exception": false,
     "start_time": "2023-03-29T03:04:04.347873",
     "status": "completed"
    },
    "tags": []
   },
   "outputs": [
    {
     "data": {
      "application/javascript": [
       "parent.postMessage({\"jupyterEvent\": \"custom.exercise_interaction\", \"data\": {\"interactionType\": 2, \"questionType\": 2, \"questionId\": \"3_IdentifyFieldsForPlotting\", \"learnToolsVersion\": \"0.3.4\", \"valueTowardsCompletion\": 0.0, \"failureMessage\": \"\", \"exceptionClass\": \"\", \"trace\": \"\", \"outcomeType\": 4}}, \"*\")"
      ],
      "text/plain": [
       "<IPython.core.display.Javascript object>"
      ]
     },
     "metadata": {},
     "output_type": "display_data"
    },
    {
     "data": {
      "text/markdown": [
       "<span style=\"color:#3366cc\">Hint:</span> Look at the table schema.  There are a couple options, but two of the fields are things commonly used to plot on maps. Both are `'FLOAT'` types. Use quotes around the field names in your answer."
      ],
      "text/plain": [
       "Hint: Look at the table schema.  There are a couple options, but two of the fields are things commonly used to plot on maps. Both are `'FLOAT'` types. Use quotes around the field names in your answer."
      ]
     },
     "metadata": {},
     "output_type": "display_data"
    },
    {
     "data": {
      "application/javascript": [
       "parent.postMessage({\"jupyterEvent\": \"custom.exercise_interaction\", \"data\": {\"interactionType\": 3, \"questionType\": 2, \"questionId\": \"3_IdentifyFieldsForPlotting\", \"learnToolsVersion\": \"0.3.4\", \"valueTowardsCompletion\": 0.0, \"failureMessage\": \"\", \"exceptionClass\": \"\", \"trace\": \"\", \"outcomeType\": 4}}, \"*\")"
      ],
      "text/plain": [
       "<IPython.core.display.Javascript object>"
      ]
     },
     "metadata": {},
     "output_type": "display_data"
    },
    {
     "data": {
      "text/markdown": [
       "<span style=\"color:#33cc99\">Solution:</span> \n",
       "```python\n",
       "fields_for_plotting = ['latitude', 'longitude']\n",
       "```"
      ],
      "text/plain": [
       "Solution: \n",
       "```python\n",
       "fields_for_plotting = ['latitude', 'longitude']\n",
       "```"
      ]
     },
     "metadata": {},
     "output_type": "display_data"
    }
   ],
   "source": [
    "q_3.hint()\n",
    "q_3.solution()"
   ]
  },
  {
   "cell_type": "markdown",
   "id": "f15158d4",
   "metadata": {
    "papermill": {
     "duration": 0.006826,
     "end_time": "2023-03-29T03:04:04.380219",
     "exception": false,
     "start_time": "2023-03-29T03:04:04.373393",
     "status": "completed"
    },
    "tags": []
   },
   "source": [
    "Thinking about the question above, there are a few columns that appear to have geographic data. Look at a few values (with the `list_rows()` command) to see if you can determine their relationship.  Two columns will still be hard to interpret. But it should be obvious how the `location` column relates to `latitude` and `longitude`."
   ]
  },
  {
   "cell_type": "code",
   "execution_count": 13,
   "id": "f10b2f85",
   "metadata": {
    "execution": {
     "iopub.execute_input": "2023-03-29T03:04:04.395646Z",
     "iopub.status.busy": "2023-03-29T03:04:04.395360Z",
     "iopub.status.idle": "2023-03-29T03:04:04.399122Z",
     "shell.execute_reply": "2023-03-29T03:04:04.398106Z"
    },
    "papermill": {
     "duration": 0.01366,
     "end_time": "2023-03-29T03:04:04.400788",
     "exception": false,
     "start_time": "2023-03-29T03:04:04.387128",
     "status": "completed"
    },
    "tags": []
   },
   "outputs": [],
   "source": [
    "# Scratch space for your code\n"
   ]
  },
  {
   "cell_type": "markdown",
   "id": "6316e2e2",
   "metadata": {
    "papermill": {
     "duration": 0.006799,
     "end_time": "2023-03-29T03:04:04.414612",
     "exception": false,
     "start_time": "2023-03-29T03:04:04.407813",
     "status": "completed"
    },
    "tags": []
   },
   "source": [
    "# Keep going\n",
    "\n",
    "You've looked at the schema, but you haven't yet done anything exciting with the data itself. Things get more interesting when you get to the data, so keep going to **[write your first SQL query](https://www.kaggle.com/dansbecker/select-from-where).**"
   ]
  },
  {
   "cell_type": "markdown",
   "id": "6d6042c3",
   "metadata": {
    "papermill": {
     "duration": 0.006806,
     "end_time": "2023-03-29T03:04:04.428439",
     "exception": false,
     "start_time": "2023-03-29T03:04:04.421633",
     "status": "completed"
    },
    "tags": []
   },
   "source": [
    "---\n",
    "\n",
    "\n",
    "\n",
    "\n",
    "*Have questions or comments? Visit the [Learn Discussion forum](https://www.kaggle.com/learn-forum/161314) to chat with other Learners.*"
   ]
  }
 ],
 "metadata": {
  "kernelspec": {
   "display_name": "Python 3",
   "language": "python",
   "name": "python3"
  },
  "language_info": {
   "codemirror_mode": {
    "name": "ipython",
    "version": 3
   },
   "file_extension": ".py",
   "mimetype": "text/x-python",
   "name": "python",
   "nbconvert_exporter": "python",
   "pygments_lexer": "ipython3",
   "version": "3.7.12"
  },
  "papermill": {
   "default_parameters": {},
   "duration": 11.377834,
   "end_time": "2023-03-29T03:04:05.054360",
   "environment_variables": {},
   "exception": null,
   "input_path": "__notebook__.ipynb",
   "output_path": "__notebook__.ipynb",
   "parameters": {},
   "start_time": "2023-03-29T03:03:53.676526",
   "version": "2.4.0"
  }
 },
 "nbformat": 4,
 "nbformat_minor": 5
}
