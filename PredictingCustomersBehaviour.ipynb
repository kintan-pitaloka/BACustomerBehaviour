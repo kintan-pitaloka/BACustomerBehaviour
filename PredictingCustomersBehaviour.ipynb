{
 "cells": [
  {
   "cell_type": "markdown",
   "id": "25e29a58",
   "metadata": {},
   "source": [
    "## British Airways - Predicting Customers Behaviours"
   ]
  },
  {
   "cell_type": "markdown",
   "id": "767b388e",
   "metadata": {},
   "source": [
    "\n",
    "Build a predictive model to understand factors that influence buying behaviour"
   ]
  },
  {
   "cell_type": "code",
   "execution_count": 1,
   "id": "3bb86acd",
   "metadata": {},
   "outputs": [],
   "source": [
    "import pandas as pd\n",
    "import numpy as np\n",
    "import seaborn as sns\n",
    "import matplotlib.pyplot as plt\n",
    "%matplotlib inline\n",
    "\n",
    "import warnings\n",
    "warnings.simplefilter(\"ignore\")"
   ]
  },
  {
   "cell_type": "code",
   "execution_count": 2,
   "id": "c856fd62",
   "metadata": {},
   "outputs": [],
   "source": [
    "data_cust = pd.read_csv(\"data/customer_booking.csv\", encoding='ISO-8859-1')"
   ]
  },
  {
   "cell_type": "code",
   "execution_count": 3,
   "id": "194ed6e8",
   "metadata": {},
   "outputs": [
    {
     "data": {
      "text/html": [
       "<div>\n",
       "<style scoped>\n",
       "    .dataframe tbody tr th:only-of-type {\n",
       "        vertical-align: middle;\n",
       "    }\n",
       "\n",
       "    .dataframe tbody tr th {\n",
       "        vertical-align: top;\n",
       "    }\n",
       "\n",
       "    .dataframe thead th {\n",
       "        text-align: right;\n",
       "    }\n",
       "</style>\n",
       "<table border=\"1\" class=\"dataframe\">\n",
       "  <thead>\n",
       "    <tr style=\"text-align: right;\">\n",
       "      <th></th>\n",
       "      <th>num_passengers</th>\n",
       "      <th>sales_channel</th>\n",
       "      <th>trip_type</th>\n",
       "      <th>purchase_lead</th>\n",
       "      <th>length_of_stay</th>\n",
       "      <th>flight_hour</th>\n",
       "      <th>flight_day</th>\n",
       "      <th>route</th>\n",
       "      <th>booking_origin</th>\n",
       "      <th>wants_extra_baggage</th>\n",
       "      <th>wants_preferred_seat</th>\n",
       "      <th>wants_in_flight_meals</th>\n",
       "      <th>flight_duration</th>\n",
       "      <th>booking_complete</th>\n",
       "    </tr>\n",
       "  </thead>\n",
       "  <tbody>\n",
       "    <tr>\n",
       "      <th>0</th>\n",
       "      <td>2</td>\n",
       "      <td>Internet</td>\n",
       "      <td>RoundTrip</td>\n",
       "      <td>262</td>\n",
       "      <td>19</td>\n",
       "      <td>7</td>\n",
       "      <td>Sat</td>\n",
       "      <td>AKLDEL</td>\n",
       "      <td>New Zealand</td>\n",
       "      <td>1</td>\n",
       "      <td>0</td>\n",
       "      <td>0</td>\n",
       "      <td>5.52</td>\n",
       "      <td>0</td>\n",
       "    </tr>\n",
       "    <tr>\n",
       "      <th>1</th>\n",
       "      <td>1</td>\n",
       "      <td>Internet</td>\n",
       "      <td>RoundTrip</td>\n",
       "      <td>112</td>\n",
       "      <td>20</td>\n",
       "      <td>3</td>\n",
       "      <td>Sat</td>\n",
       "      <td>AKLDEL</td>\n",
       "      <td>New Zealand</td>\n",
       "      <td>0</td>\n",
       "      <td>0</td>\n",
       "      <td>0</td>\n",
       "      <td>5.52</td>\n",
       "      <td>0</td>\n",
       "    </tr>\n",
       "    <tr>\n",
       "      <th>2</th>\n",
       "      <td>2</td>\n",
       "      <td>Internet</td>\n",
       "      <td>RoundTrip</td>\n",
       "      <td>243</td>\n",
       "      <td>22</td>\n",
       "      <td>17</td>\n",
       "      <td>Wed</td>\n",
       "      <td>AKLDEL</td>\n",
       "      <td>India</td>\n",
       "      <td>1</td>\n",
       "      <td>1</td>\n",
       "      <td>0</td>\n",
       "      <td>5.52</td>\n",
       "      <td>0</td>\n",
       "    </tr>\n",
       "  </tbody>\n",
       "</table>\n",
       "</div>"
      ],
      "text/plain": [
       "   num_passengers sales_channel  trip_type  purchase_lead  length_of_stay  \\\n",
       "0               2      Internet  RoundTrip            262              19   \n",
       "1               1      Internet  RoundTrip            112              20   \n",
       "2               2      Internet  RoundTrip            243              22   \n",
       "\n",
       "   flight_hour flight_day   route booking_origin  wants_extra_baggage  \\\n",
       "0            7        Sat  AKLDEL    New Zealand                    1   \n",
       "1            3        Sat  AKLDEL    New Zealand                    0   \n",
       "2           17        Wed  AKLDEL          India                    1   \n",
       "\n",
       "   wants_preferred_seat  wants_in_flight_meals  flight_duration  \\\n",
       "0                     0                      0             5.52   \n",
       "1                     0                      0             5.52   \n",
       "2                     1                      0             5.52   \n",
       "\n",
       "   booking_complete  \n",
       "0                 0  \n",
       "1                 0  \n",
       "2                 0  "
      ]
     },
     "execution_count": 3,
     "metadata": {},
     "output_type": "execute_result"
    }
   ],
   "source": [
    "data_cust.head(3)"
   ]
  },
  {
   "cell_type": "code",
   "execution_count": 4,
   "id": "511fc3ec",
   "metadata": {},
   "outputs": [],
   "source": [
    "#copy the originall data\n",
    "df_cust = data_cust.copy()"
   ]
  },
  {
   "cell_type": "code",
   "execution_count": 5,
   "id": "e177612d",
   "metadata": {},
   "outputs": [
    {
     "data": {
      "text/html": [
       "<div>\n",
       "<style scoped>\n",
       "    .dataframe tbody tr th:only-of-type {\n",
       "        vertical-align: middle;\n",
       "    }\n",
       "\n",
       "    .dataframe tbody tr th {\n",
       "        vertical-align: top;\n",
       "    }\n",
       "\n",
       "    .dataframe thead th {\n",
       "        text-align: right;\n",
       "    }\n",
       "</style>\n",
       "<table border=\"1\" class=\"dataframe\">\n",
       "  <thead>\n",
       "    <tr style=\"text-align: right;\">\n",
       "      <th></th>\n",
       "      <th>num_passengers</th>\n",
       "      <th>sales_channel</th>\n",
       "      <th>trip_type</th>\n",
       "      <th>purchase_lead</th>\n",
       "      <th>length_of_stay</th>\n",
       "      <th>flight_hour</th>\n",
       "      <th>flight_day</th>\n",
       "      <th>route</th>\n",
       "      <th>booking_origin</th>\n",
       "      <th>wants_extra_baggage</th>\n",
       "      <th>wants_preferred_seat</th>\n",
       "      <th>wants_in_flight_meals</th>\n",
       "      <th>flight_duration</th>\n",
       "      <th>booking_complete</th>\n",
       "    </tr>\n",
       "  </thead>\n",
       "  <tbody>\n",
       "    <tr>\n",
       "      <th>0</th>\n",
       "      <td>2</td>\n",
       "      <td>Internet</td>\n",
       "      <td>RoundTrip</td>\n",
       "      <td>262</td>\n",
       "      <td>19</td>\n",
       "      <td>7</td>\n",
       "      <td>Sat</td>\n",
       "      <td>AKLDEL</td>\n",
       "      <td>New Zealand</td>\n",
       "      <td>1</td>\n",
       "      <td>0</td>\n",
       "      <td>0</td>\n",
       "      <td>5.52</td>\n",
       "      <td>0</td>\n",
       "    </tr>\n",
       "    <tr>\n",
       "      <th>1</th>\n",
       "      <td>1</td>\n",
       "      <td>Internet</td>\n",
       "      <td>RoundTrip</td>\n",
       "      <td>112</td>\n",
       "      <td>20</td>\n",
       "      <td>3</td>\n",
       "      <td>Sat</td>\n",
       "      <td>AKLDEL</td>\n",
       "      <td>New Zealand</td>\n",
       "      <td>0</td>\n",
       "      <td>0</td>\n",
       "      <td>0</td>\n",
       "      <td>5.52</td>\n",
       "      <td>0</td>\n",
       "    </tr>\n",
       "    <tr>\n",
       "      <th>2</th>\n",
       "      <td>2</td>\n",
       "      <td>Internet</td>\n",
       "      <td>RoundTrip</td>\n",
       "      <td>243</td>\n",
       "      <td>22</td>\n",
       "      <td>17</td>\n",
       "      <td>Wed</td>\n",
       "      <td>AKLDEL</td>\n",
       "      <td>India</td>\n",
       "      <td>1</td>\n",
       "      <td>1</td>\n",
       "      <td>0</td>\n",
       "      <td>5.52</td>\n",
       "      <td>0</td>\n",
       "    </tr>\n",
       "  </tbody>\n",
       "</table>\n",
       "</div>"
      ],
      "text/plain": [
       "   num_passengers sales_channel  trip_type  purchase_lead  length_of_stay  \\\n",
       "0               2      Internet  RoundTrip            262              19   \n",
       "1               1      Internet  RoundTrip            112              20   \n",
       "2               2      Internet  RoundTrip            243              22   \n",
       "\n",
       "   flight_hour flight_day   route booking_origin  wants_extra_baggage  \\\n",
       "0            7        Sat  AKLDEL    New Zealand                    1   \n",
       "1            3        Sat  AKLDEL    New Zealand                    0   \n",
       "2           17        Wed  AKLDEL          India                    1   \n",
       "\n",
       "   wants_preferred_seat  wants_in_flight_meals  flight_duration  \\\n",
       "0                     0                      0             5.52   \n",
       "1                     0                      0             5.52   \n",
       "2                     1                      0             5.52   \n",
       "\n",
       "   booking_complete  \n",
       "0                 0  \n",
       "1                 0  \n",
       "2                 0  "
      ]
     },
     "execution_count": 5,
     "metadata": {},
     "output_type": "execute_result"
    }
   ],
   "source": [
    "df_cust.head(3)"
   ]
  },
  {
   "cell_type": "code",
   "execution_count": 6,
   "id": "d4d82128",
   "metadata": {},
   "outputs": [
    {
     "name": "stdout",
     "output_type": "stream",
     "text": [
      "<class 'pandas.core.frame.DataFrame'>\n",
      "RangeIndex: 50000 entries, 0 to 49999\n",
      "Data columns (total 14 columns):\n",
      " #   Column                 Non-Null Count  Dtype  \n",
      "---  ------                 --------------  -----  \n",
      " 0   num_passengers         50000 non-null  int64  \n",
      " 1   sales_channel          50000 non-null  object \n",
      " 2   trip_type              50000 non-null  object \n",
      " 3   purchase_lead          50000 non-null  int64  \n",
      " 4   length_of_stay         50000 non-null  int64  \n",
      " 5   flight_hour            50000 non-null  int64  \n",
      " 6   flight_day             50000 non-null  object \n",
      " 7   route                  50000 non-null  object \n",
      " 8   booking_origin         50000 non-null  object \n",
      " 9   wants_extra_baggage    50000 non-null  int64  \n",
      " 10  wants_preferred_seat   50000 non-null  int64  \n",
      " 11  wants_in_flight_meals  50000 non-null  int64  \n",
      " 12  flight_duration        50000 non-null  float64\n",
      " 13  booking_complete       50000 non-null  int64  \n",
      "dtypes: float64(1), int64(8), object(5)\n",
      "memory usage: 5.3+ MB\n"
     ]
    }
   ],
   "source": [
    "df_cust.info()"
   ]
  },
  {
   "cell_type": "markdown",
   "id": "cb9ea3f5",
   "metadata": {},
   "source": [
    "- num_passengers = nomor penumpang\n",
    "- sales_channel = saluran penjualan\n",
    "- trip_type = jenis jenis trip\n",
    "- purchase_lead = prospek pembelian\n",
    "- length_of_stay = jumlah hari untuk tinggal\n",
    "- flight_hour = jumlah waktu yang dihabiskan pilot untuk terbang selama periode tertentu\n",
    "- flight_day = hari penerbanagn dari tengah malam hingga tengah malam\n",
    "- route =  rute\n",
    "- booking_origin = tempat reservation booking dibuat\n",
    "- wants_extra_baggage = yang mau bagasi ekstra\n",
    "- wants_in_flight_meals = yang mau makanan penerbangan\n",
    "- flight_duration = waktu yang dibutuhkan penerbangan dari keberangkatan ke kedatangan\n",
    "- booking_complete = reservasi atau pemesanan yang sudah selesai yang sudah dikonfirmasi"
   ]
  },
  {
   "cell_type": "code",
   "execution_count": 28,
   "id": "a04e76d6",
   "metadata": {},
   "outputs": [
    {
     "data": {
      "text/plain": [
       "(50000, 14)"
      ]
     },
     "execution_count": 28,
     "metadata": {},
     "output_type": "execute_result"
    }
   ],
   "source": [
    "df_cust.shape"
   ]
  },
  {
   "cell_type": "code",
   "execution_count": 29,
   "id": "00bde05b",
   "metadata": {},
   "outputs": [
    {
     "data": {
      "text/plain": [
       "Index(['num_passengers', 'sales_channel', 'trip_type', 'purchase_lead',\n",
       "       'length_of_stay', 'flight_hour', 'flight_day', 'route',\n",
       "       'booking_origin', 'wants_extra_baggage', 'wants_preferred_seat',\n",
       "       'wants_in_flight_meals', 'flight_duration', 'booking_complete'],\n",
       "      dtype='object')"
      ]
     },
     "execution_count": 29,
     "metadata": {},
     "output_type": "execute_result"
    }
   ],
   "source": [
    "#check the columns\n",
    "df_cust.columns"
   ]
  },
  {
   "cell_type": "markdown",
   "id": "684c3cf4",
   "metadata": {},
   "source": [
    "### Exploratory Data Analysis "
   ]
  },
  {
   "cell_type": "markdown",
   "id": "c8220485",
   "metadata": {},
   "source": [
    "**var target = 'booking_complete'**"
   ]
  },
  {
   "cell_type": "code",
   "execution_count": 30,
   "id": "e286a262",
   "metadata": {
    "scrolled": true
   },
   "outputs": [
    {
     "data": {
      "text/html": [
       "<div>\n",
       "<style scoped>\n",
       "    .dataframe tbody tr th:only-of-type {\n",
       "        vertical-align: middle;\n",
       "    }\n",
       "\n",
       "    .dataframe tbody tr th {\n",
       "        vertical-align: top;\n",
       "    }\n",
       "\n",
       "    .dataframe thead th {\n",
       "        text-align: right;\n",
       "    }\n",
       "</style>\n",
       "<table border=\"1\" class=\"dataframe\">\n",
       "  <thead>\n",
       "    <tr style=\"text-align: right;\">\n",
       "      <th></th>\n",
       "      <th>num_passengers</th>\n",
       "      <th>purchase_lead</th>\n",
       "      <th>length_of_stay</th>\n",
       "      <th>flight_hour</th>\n",
       "      <th>wants_extra_baggage</th>\n",
       "      <th>wants_preferred_seat</th>\n",
       "      <th>wants_in_flight_meals</th>\n",
       "      <th>flight_duration</th>\n",
       "      <th>booking_complete</th>\n",
       "    </tr>\n",
       "  </thead>\n",
       "  <tbody>\n",
       "    <tr>\n",
       "      <th>count</th>\n",
       "      <td>50000.000000</td>\n",
       "      <td>50000.000000</td>\n",
       "      <td>50000.00000</td>\n",
       "      <td>50000.00000</td>\n",
       "      <td>50000.000000</td>\n",
       "      <td>50000.000000</td>\n",
       "      <td>50000.000000</td>\n",
       "      <td>50000.000000</td>\n",
       "      <td>50000.000000</td>\n",
       "    </tr>\n",
       "    <tr>\n",
       "      <th>mean</th>\n",
       "      <td>1.591240</td>\n",
       "      <td>84.940480</td>\n",
       "      <td>23.04456</td>\n",
       "      <td>9.06634</td>\n",
       "      <td>0.668780</td>\n",
       "      <td>0.296960</td>\n",
       "      <td>0.427140</td>\n",
       "      <td>7.277561</td>\n",
       "      <td>0.149560</td>\n",
       "    </tr>\n",
       "    <tr>\n",
       "      <th>std</th>\n",
       "      <td>1.020165</td>\n",
       "      <td>90.451378</td>\n",
       "      <td>33.88767</td>\n",
       "      <td>5.41266</td>\n",
       "      <td>0.470657</td>\n",
       "      <td>0.456923</td>\n",
       "      <td>0.494668</td>\n",
       "      <td>1.496863</td>\n",
       "      <td>0.356643</td>\n",
       "    </tr>\n",
       "    <tr>\n",
       "      <th>min</th>\n",
       "      <td>1.000000</td>\n",
       "      <td>0.000000</td>\n",
       "      <td>0.00000</td>\n",
       "      <td>0.00000</td>\n",
       "      <td>0.000000</td>\n",
       "      <td>0.000000</td>\n",
       "      <td>0.000000</td>\n",
       "      <td>4.670000</td>\n",
       "      <td>0.000000</td>\n",
       "    </tr>\n",
       "    <tr>\n",
       "      <th>25%</th>\n",
       "      <td>1.000000</td>\n",
       "      <td>21.000000</td>\n",
       "      <td>5.00000</td>\n",
       "      <td>5.00000</td>\n",
       "      <td>0.000000</td>\n",
       "      <td>0.000000</td>\n",
       "      <td>0.000000</td>\n",
       "      <td>5.620000</td>\n",
       "      <td>0.000000</td>\n",
       "    </tr>\n",
       "    <tr>\n",
       "      <th>50%</th>\n",
       "      <td>1.000000</td>\n",
       "      <td>51.000000</td>\n",
       "      <td>17.00000</td>\n",
       "      <td>9.00000</td>\n",
       "      <td>1.000000</td>\n",
       "      <td>0.000000</td>\n",
       "      <td>0.000000</td>\n",
       "      <td>7.570000</td>\n",
       "      <td>0.000000</td>\n",
       "    </tr>\n",
       "    <tr>\n",
       "      <th>75%</th>\n",
       "      <td>2.000000</td>\n",
       "      <td>115.000000</td>\n",
       "      <td>28.00000</td>\n",
       "      <td>13.00000</td>\n",
       "      <td>1.000000</td>\n",
       "      <td>1.000000</td>\n",
       "      <td>1.000000</td>\n",
       "      <td>8.830000</td>\n",
       "      <td>0.000000</td>\n",
       "    </tr>\n",
       "    <tr>\n",
       "      <th>max</th>\n",
       "      <td>9.000000</td>\n",
       "      <td>867.000000</td>\n",
       "      <td>778.00000</td>\n",
       "      <td>23.00000</td>\n",
       "      <td>1.000000</td>\n",
       "      <td>1.000000</td>\n",
       "      <td>1.000000</td>\n",
       "      <td>9.500000</td>\n",
       "      <td>1.000000</td>\n",
       "    </tr>\n",
       "  </tbody>\n",
       "</table>\n",
       "</div>"
      ],
      "text/plain": [
       "       num_passengers  purchase_lead  length_of_stay  flight_hour  \\\n",
       "count    50000.000000   50000.000000     50000.00000  50000.00000   \n",
       "mean         1.591240      84.940480        23.04456      9.06634   \n",
       "std          1.020165      90.451378        33.88767      5.41266   \n",
       "min          1.000000       0.000000         0.00000      0.00000   \n",
       "25%          1.000000      21.000000         5.00000      5.00000   \n",
       "50%          1.000000      51.000000        17.00000      9.00000   \n",
       "75%          2.000000     115.000000        28.00000     13.00000   \n",
       "max          9.000000     867.000000       778.00000     23.00000   \n",
       "\n",
       "       wants_extra_baggage  wants_preferred_seat  wants_in_flight_meals  \\\n",
       "count         50000.000000          50000.000000           50000.000000   \n",
       "mean              0.668780              0.296960               0.427140   \n",
       "std               0.470657              0.456923               0.494668   \n",
       "min               0.000000              0.000000               0.000000   \n",
       "25%               0.000000              0.000000               0.000000   \n",
       "50%               1.000000              0.000000               0.000000   \n",
       "75%               1.000000              1.000000               1.000000   \n",
       "max               1.000000              1.000000               1.000000   \n",
       "\n",
       "       flight_duration  booking_complete  \n",
       "count     50000.000000      50000.000000  \n",
       "mean          7.277561          0.149560  \n",
       "std           1.496863          0.356643  \n",
       "min           4.670000          0.000000  \n",
       "25%           5.620000          0.000000  \n",
       "50%           7.570000          0.000000  \n",
       "75%           8.830000          0.000000  \n",
       "max           9.500000          1.000000  "
      ]
     },
     "execution_count": 30,
     "metadata": {},
     "output_type": "execute_result"
    }
   ],
   "source": [
    "#see the summary of dataframe\n",
    "df_cust.describe()"
   ]
  },
  {
   "cell_type": "code",
   "execution_count": 64,
   "id": "6c563221",
   "metadata": {
    "scrolled": true
   },
   "outputs": [
    {
     "data": {
      "text/plain": [
       "num_passengers           False\n",
       "sales_channel            False\n",
       "trip_type                False\n",
       "purchase_lead            False\n",
       "length_of_stay           False\n",
       "flight_hour              False\n",
       "flight_day               False\n",
       "route                    False\n",
       "booking_origin           False\n",
       "wants_extra_baggage      False\n",
       "wants_preferred_seat     False\n",
       "wants_in_flight_meals    False\n",
       "flight_duration          False\n",
       "booking_complete         False\n",
       "dtype: bool"
      ]
     },
     "execution_count": 64,
     "metadata": {},
     "output_type": "execute_result"
    }
   ],
   "source": [
    "df_cust.isnull().any()"
   ]
  },
  {
   "cell_type": "markdown",
   "id": "2aea6203",
   "metadata": {},
   "source": [
    "#### flight duration"
   ]
  },
  {
   "cell_type": "code",
   "execution_count": 82,
   "id": "ab987bce",
   "metadata": {},
   "outputs": [
    {
     "data": {
      "image/png": "[encoded data removed]",
      "text/plain": [
       "<Figure size 1200x827 with 1 Axes>"
      ]
     },
     "metadata": {},
     "output_type": "display_data"
    }
   ],
   "source": [
    "sns.countplot(df_cust['flight_duration'], hue=df_cust['booking_complete'], palette = 'Blues_d')\n",
    "sns.set(rc={'figure.figsize':(12,12)}) # width, height"
   ]
  },
  {
   "cell_type": "code",
   "execution_count": 32,
   "id": "032d6e84",
   "metadata": {},
   "outputs": [
    {
     "data": {
      "text/plain": [
       "<AxesSubplot:xlabel='flight_duration', ylabel='Density'>"
      ]
     },
     "execution_count": 32,
     "metadata": {},
     "output_type": "execute_result"
    },
    {
     "data": {
      "image/png": "[encoded data removed]",
      "text/plain": [
       "<Figure size 640x480 with 1 Axes>"
      ]
     },
     "metadata": {},
     "output_type": "display_data"
    }
   ],
   "source": [
    "sns.distplot(df_cust['flight_duration'])"
   ]
  },
  {
   "cell_type": "code",
   "execution_count": 33,
   "id": "b9fa767a",
   "metadata": {},
   "outputs": [
    {
     "data": {
      "text/plain": [
       "7.277560799998812"
      ]
     },
     "execution_count": 33,
     "metadata": {},
     "output_type": "execute_result"
    }
   ],
   "source": [
    "df_cust['flight_duration'].mean()"
   ]
  },
  {
   "cell_type": "markdown",
   "id": "3c86eac9",
   "metadata": {},
   "source": [
    "- flight duration paling banyak terjadi selama 8 jam lebih \n",
    "- the mean of the flight duration is 7,3 jam\n",
    "- banyak yang melakukan durasi penerbangan lebih dari 8 jam yang pesanannya belum terkonfirmasi\n",
    "- jika dilihat dari distribusinya, flight duration memiliki left skewed"
   ]
  },
  {
   "cell_type": "markdown",
   "id": "6da2f239",
   "metadata": {},
   "source": [
    "#### purchase lead"
   ]
  },
  {
   "cell_type": "code",
   "execution_count": 34,
   "id": "419ed4f6",
   "metadata": {
    "scrolled": true
   },
   "outputs": [
    {
     "data": {
      "text/plain": [
       "<AxesSubplot:xlabel='purchase_lead', ylabel='Density'>"
      ]
     },
     "execution_count": 34,
     "metadata": {},
     "output_type": "execute_result"
    },
    {
     "data": {
      "image/png": "[encoded data removed]",
      "text/plain": [
       "<Figure size 640x480 with 1 Axes>"
      ]
     },
     "metadata": {},
     "output_type": "display_data"
    }
   ],
   "source": [
    "sns.distplot(df_cust['purchase_lead'])"
   ]
  },
  {
   "cell_type": "markdown",
   "id": "27360761",
   "metadata": {},
   "source": [
    "- purchase lead memiliki right skew yang mana bisa jadi terdapat adanya outlier"
   ]
  },
  {
   "cell_type": "markdown",
   "id": "45b0b86b",
   "metadata": {},
   "source": [
    "#### flight hour"
   ]
  },
  {
   "cell_type": "code",
   "execution_count": 35,
   "id": "023a161b",
   "metadata": {
    "scrolled": false
   },
   "outputs": [
    {
     "data": {
      "text/plain": [
       "<AxesSubplot:xlabel='flight_hour', ylabel='Density'>"
      ]
     },
     "execution_count": 35,
     "metadata": {},
     "output_type": "execute_result"
    },
    {
     "data": {
      "image/png": "[encoded data removed]",
      "text/plain": [
       "<Figure size 640x480 with 1 Axes>"
      ]
     },
     "metadata": {},
     "output_type": "display_data"
    }
   ],
   "source": [
    "sns.distplot(df_cust['flight_hour'])"
   ]
  },
  {
   "cell_type": "code",
   "execution_count": 85,
   "id": "eb2203da",
   "metadata": {},
   "outputs": [
    {
     "data": {
      "image/png": "[encoded data removed]",
      "text/plain": [
       "<Figure size 1200x1200 with 1 Axes>"
      ]
     },
     "metadata": {},
     "output_type": "display_data"
    }
   ],
   "source": [
    "sns.countplot(df_cust['flight_hour'], hue=df_cust['booking_complete'], palette = 'Blues_d')\n",
    "sns.set(rc={'figure.figsize':(12,12)}) # width, height"
   ]
  },
  {
   "cell_type": "markdown",
   "id": "c017cebc",
   "metadata": {},
   "source": [
    "- flight_hour rata-rata sekitar 15 jam\n",
    "- terdapat skewed yang mana ada indikasi jika terdapat outlier"
   ]
  },
  {
   "cell_type": "markdown",
   "id": "0be1c7f1",
   "metadata": {},
   "source": [
    "### booking complete"
   ]
  },
  {
   "cell_type": "code",
   "execution_count": 36,
   "id": "34f362a0",
   "metadata": {},
   "outputs": [
    {
     "data": {
      "text/plain": [
       "<AxesSubplot:xlabel='booking_complete', ylabel='Density'>"
      ]
     },
     "execution_count": 36,
     "metadata": {},
     "output_type": "execute_result"
    },
    {
     "data": {
      "image/png": "[encoded data removed]",
      "text/plain": [
       "<Figure size 640x480 with 1 Axes>"
      ]
     },
     "metadata": {},
     "output_type": "display_data"
    }
   ],
   "source": [
    "sns.distplot(df_cust['booking_complete'])"
   ]
  },
  {
   "cell_type": "markdown",
   "id": "2e7581a0",
   "metadata": {},
   "source": [
    "- if we see at this distribution, mostly customer still not complete the booking"
   ]
  },
  {
   "cell_type": "code",
   "execution_count": 37,
   "id": "cdec6a40",
   "metadata": {
    "scrolled": true
   },
   "outputs": [
    {
     "data": {
      "text/plain": [
       "<AxesSubplot:xlabel='length_of_stay', ylabel='Density'>"
      ]
     },
     "execution_count": 37,
     "metadata": {},
     "output_type": "execute_result"
    },
    {
     "data": {
      "image/png": "[encoded data removed]",
      "text/plain": [
       "<Figure size 640x480 with 1 Axes>"
      ]
     },
     "metadata": {},
     "output_type": "display_data"
    }
   ],
   "source": [
    "sns.distplot(df_cust['length_of_stay'])"
   ]
  },
  {
   "cell_type": "markdown",
   "id": "75f1fc33",
   "metadata": {},
   "source": [
    "- di bag.lengt if stay terdapat right skew yang mana menjadi ssuatu indikasi adanya outlier "
   ]
  },
  {
   "cell_type": "code",
   "execution_count": 38,
   "id": "dbcefcd2",
   "metadata": {
    "scrolled": true
   },
   "outputs": [
    {
     "data": {
      "text/plain": [
       "<AxesSubplot:xlabel='wants_extra_baggage', ylabel='Density'>"
      ]
     },
     "execution_count": 38,
     "metadata": {},
     "output_type": "execute_result"
    },
    {
     "data": {
      "image/png": "[encoded data removed]",
      "text/plain": [
       "<Figure size 640x480 with 1 Axes>"
      ]
     },
     "metadata": {},
     "output_type": "display_data"
    }
   ],
   "source": [
    "sns.distplot(df_cust['wants_extra_baggage'])"
   ]
  },
  {
   "cell_type": "code",
   "execution_count": 88,
   "id": "ea37043d",
   "metadata": {},
   "outputs": [
    {
     "data": {
      "image/png": "[encoded data removed]",
      "text/plain": [
       "<Figure size 1200x1200 with 1 Axes>"
      ]
     },
     "metadata": {},
     "output_type": "display_data"
    }
   ],
   "source": [
    "sns.countplot(df_cust['wants_extra_baggage'], hue=df_cust['booking_complete'], palette = 'Blues_d')\n",
    "sns.set(rc={'figure.figsize':(12,12)}) # width, height"
   ]
  },
  {
   "cell_type": "markdown",
   "id": "9a1b0d9c",
   "metadata": {},
   "source": [
    "- mostly customer want ekstra bagasi\n",
    "- dan mostly dari customer yang meminta bagasi lebih belom melakukan booking secara complete"
   ]
  },
  {
   "cell_type": "code",
   "execution_count": 39,
   "id": "22b3742f",
   "metadata": {},
   "outputs": [
    {
     "data": {
      "text/plain": [
       "<AxesSubplot:xlabel='wants_preferred_seat', ylabel='Density'>"
      ]
     },
     "execution_count": 39,
     "metadata": {},
     "output_type": "execute_result"
    },
    {
     "data": {
      "image/png": "[encoded data removed]",
      "text/plain": [
       "<Figure size 640x480 with 1 Axes>"
      ]
     },
     "metadata": {},
     "output_type": "display_data"
    }
   ],
   "source": [
    "sns.distplot(df_cust['wants_preferred_seat'])"
   ]
  },
  {
   "cell_type": "code",
   "execution_count": 89,
   "id": "7bbbc3fc",
   "metadata": {},
   "outputs": [
    {
     "data": {
      "image/png": "[encoded data removed]",
      "text/plain": [
       "<Figure size 1200x1200 with 1 Axes>"
      ]
     },
     "metadata": {},
     "output_type": "display_data"
    }
   ],
   "source": [
    "sns.countplot(df_cust['wants_in_flight_meals'], hue=df_cust['booking_complete'], palette = 'Blues_d')\n",
    "sns.set(rc={'figure.figsize':(12,12)}) # width, height"
   ]
  },
  {
   "cell_type": "code",
   "execution_count": 40,
   "id": "41af2716",
   "metadata": {},
   "outputs": [
    {
     "data": {
      "text/plain": [
       "<AxesSubplot:xlabel='wants_in_flight_meals', ylabel='Density'>"
      ]
     },
     "execution_count": 40,
     "metadata": {},
     "output_type": "execute_result"
    },
    {
     "data": {
      "image/png": "[encoded data removed]",
      "text/plain": [
       "<Figure size 640x480 with 1 Axes>"
      ]
     },
     "metadata": {},
     "output_type": "display_data"
    }
   ],
   "source": [
    "sns.distplot(df_cust['wants_in_flight_meals'])"
   ]
  },
  {
   "cell_type": "markdown",
   "id": "5cf2c16b",
   "metadata": {},
   "source": [
    "- mostly customer tidak ingin makanan penerbangan\n",
    "- mostly juga masih belum melakukan booking secara complete"
   ]
  },
  {
   "cell_type": "code",
   "execution_count": 42,
   "id": "384da16a",
   "metadata": {
    "scrolled": true
   },
   "outputs": [
    {
     "data": {
      "text/plain": [
       "Index(['num_passengers', 'sales_channel', 'trip_type', 'purchase_lead',\n",
       "       'length_of_stay', 'flight_hour', 'flight_day', 'route',\n",
       "       'booking_origin', 'wants_extra_baggage', 'wants_preferred_seat',\n",
       "       'wants_in_flight_meals', 'flight_duration', 'booking_complete'],\n",
       "      dtype='object')"
      ]
     },
     "execution_count": 42,
     "metadata": {},
     "output_type": "execute_result"
    }
   ],
   "source": [
    "#check the columns\n",
    "df_cust.columns"
   ]
  },
  {
   "cell_type": "code",
   "execution_count": 43,
   "id": "58ea108e",
   "metadata": {
    "scrolled": true
   },
   "outputs": [
    {
     "data": {
      "text/plain": [
       "<seaborn.axisgrid.FacetGrid at 0x2b4a20b85e0>"
      ]
     },
     "execution_count": 43,
     "metadata": {},
     "output_type": "execute_result"
    },
    {
     "data": {
      "image/png": "[encoded data removed]",
      "text/plain": [
       "<Figure size 550x250 with 1 Axes>"
      ]
     },
     "metadata": {},
     "output_type": "display_data"
    }
   ],
   "source": [
    "sns.catplot(y='trip_type', kind='count', data=df_cust, height=2.5, aspect=2.2, palette = 'deep')"
   ]
  },
  {
   "cell_type": "code",
   "execution_count": 44,
   "id": "e3427df1",
   "metadata": {},
   "outputs": [
    {
     "data": {
      "text/plain": [
       "<AxesSubplot:xlabel='trip_type', ylabel='count'>"
      ]
     },
     "execution_count": 44,
     "metadata": {},
     "output_type": "execute_result"
    },
    {
     "data": {
      "image/png": "[encoded data removed]",
      "text/plain": [
       "<Figure size 640x480 with 1 Axes>"
      ]
     },
     "metadata": {},
     "output_type": "display_data"
    }
   ],
   "source": [
    "sns.countplot(df_cust['trip_type'], hue=df_cust['booking_complete'], palette = 'Blues_d')"
   ]
  },
  {
   "cell_type": "code",
   "execution_count": 45,
   "id": "735bceba",
   "metadata": {
    "scrolled": false
   },
   "outputs": [
    {
     "data": {
      "text/plain": [
       "RoundTrip     49497\n",
       "OneWay          387\n",
       "CircleTrip      116\n",
       "Name: trip_type, dtype: int64"
      ]
     },
     "execution_count": 45,
     "metadata": {},
     "output_type": "execute_result"
    }
   ],
   "source": [
    "df_cust['trip_type'].value_counts()"
   ]
  },
  {
   "cell_type": "code",
   "execution_count": 46,
   "id": "edbee54e",
   "metadata": {
    "scrolled": true
   },
   "outputs": [
    {
     "data": {
      "text/plain": [
       "RoundTrip     99.0%\n",
       "OneWay         0.8%\n",
       "CircleTrip     0.2%\n",
       "Name: trip_type, dtype: object"
      ]
     },
     "execution_count": 46,
     "metadata": {},
     "output_type": "execute_result"
    }
   ],
   "source": [
    "#percentage trip_type rate\n",
    "cr = df_cust.trip_type.value_counts(normalize=True).mul(100).round(1).astype(str) + '%'\n",
    "cr"
   ]
  },
  {
   "cell_type": "markdown",
   "id": "38144164",
   "metadata": {},
   "source": [
    "The summary about the Trip Type  with booking Complete\n",
    "- Mostly the customer do the Trip Type Round Trip\n",
    "- the customer who choose the one way trip just have 0,8 % from the wholes\n",
    "- The customer who choose the circle trip just 0.2%\n",
    "- the customer in the trip type round trip, have the complete booking is more than 5000 and the customer round trip who have not complete booking more than 40000\n",
    "- and the oneway trip custemer mostly not complete booking"
   ]
  },
  {
   "cell_type": "code",
   "execution_count": 47,
   "id": "09773147",
   "metadata": {},
   "outputs": [
    {
     "data": {
      "text/plain": [
       "Mon    8102\n",
       "Wed    7674\n",
       "Tue    7673\n",
       "Thu    7424\n",
       "Fri    6761\n",
       "Sun    6554\n",
       "Sat    5812\n",
       "Name: flight_day, dtype: int64"
      ]
     },
     "execution_count": 47,
     "metadata": {},
     "output_type": "execute_result"
    }
   ],
   "source": [
    "df_cust['flight_day'].value_counts()"
   ]
  },
  {
   "cell_type": "code",
   "execution_count": 48,
   "id": "f9b035cc",
   "metadata": {
    "scrolled": false
   },
   "outputs": [
    {
     "data": {
      "text/plain": [
       "Mon    16.2%\n",
       "Wed    15.3%\n",
       "Tue    15.3%\n",
       "Thu    14.8%\n",
       "Fri    13.5%\n",
       "Sun    13.1%\n",
       "Sat    11.6%\n",
       "Name: flight_day, dtype: object"
      ]
     },
     "execution_count": 48,
     "metadata": {},
     "output_type": "execute_result"
    }
   ],
   "source": [
    "#percentage trip_type rate\n",
    "cf = df_cust.flight_day.value_counts(normalize=True).mul(100).round(1).astype(str) + '%'\n",
    "cf"
   ]
  },
  {
   "cell_type": "code",
   "execution_count": 49,
   "id": "12c481e0",
   "metadata": {},
   "outputs": [
    {
     "data": {
      "text/plain": [
       "<seaborn.axisgrid.FacetGrid at 0x2b4a2d57400>"
      ]
     },
     "execution_count": 49,
     "metadata": {},
     "output_type": "execute_result"
    },
    {
     "data": {
      "image/png": "[encoded data removed]",
      "text/plain": [
       "<Figure size 550x250 with 1 Axes>"
      ]
     },
     "metadata": {},
     "output_type": "display_data"
    }
   ],
   "source": [
    "sns.catplot(y='flight_day', kind='count', data=df_cust, height=2.5, aspect=2.2, palette = 'deep')"
   ]
  },
  {
   "cell_type": "code",
   "execution_count": 50,
   "id": "86db084c",
   "metadata": {},
   "outputs": [
    {
     "data": {
      "text/plain": [
       "<AxesSubplot:xlabel='flight_day', ylabel='count'>"
      ]
     },
     "execution_count": 50,
     "metadata": {},
     "output_type": "execute_result"
    },
    {
     "data": {
      "image/png": "[encoded data removed]",
      "text/plain": [
       "<Figure size 640x480 with 1 Axes>"
      ]
     },
     "metadata": {},
     "output_type": "display_data"
    }
   ],
   "source": [
    "sns.countplot(df_cust['flight_day'], hue=df_cust['booking_complete'], palette = 'Blues_d')"
   ]
  },
  {
   "cell_type": "markdown",
   "id": "4d850329",
   "metadata": {},
   "source": [
    "the summary about the flight days\n",
    "- hari penerbangan terbanyak di hari senin, selasa dan kamis\n",
    "- hari penerbangan yang longgar terdapat di hari sabtu\n",
    "- rata-rata di semua hari di dominasi dengan not complete booking "
   ]
  },
  {
   "cell_type": "code",
   "execution_count": 51,
   "id": "b81a6b4f",
   "metadata": {},
   "outputs": [
    {
     "data": {
      "text/plain": [
       "AKLKUL    5.4%\n",
       "PENTPE    1.8%\n",
       "MELSGN    1.7%\n",
       "ICNSIN    1.6%\n",
       "DMKKIX    1.5%\n",
       "          ... \n",
       "LBUTPE    0.0%\n",
       "CXRMEL    0.0%\n",
       "DELKBR    0.0%\n",
       "KOSSYD    0.0%\n",
       "MRUXIY    0.0%\n",
       "Name: route, Length: 799, dtype: object"
      ]
     },
     "execution_count": 51,
     "metadata": {},
     "output_type": "execute_result"
    }
   ],
   "source": [
    "#percentage trip_type rate\n",
    "preroute= df_cust.route.value_counts(normalize=True).mul(100).round(1).astype(str) + '%'\n",
    "preroute"
   ]
  },
  {
   "cell_type": "code",
   "execution_count": 52,
   "id": "229b2f38",
   "metadata": {},
   "outputs": [
    {
     "data": {
      "text/plain": [
       "AKLKUL    2680\n",
       "PENTPE     924\n",
       "MELSGN     842\n",
       "ICNSIN     801\n",
       "DMKKIX     744\n",
       "          ... \n",
       "LBUTPE       1\n",
       "CXRMEL       1\n",
       "DELKBR       1\n",
       "KOSSYD       1\n",
       "MRUXIY       1\n",
       "Name: route, Length: 799, dtype: int64"
      ]
     },
     "execution_count": 52,
     "metadata": {},
     "output_type": "execute_result"
    }
   ],
   "source": [
    "df_cust['route'].value_counts()"
   ]
  },
  {
   "cell_type": "markdown",
   "id": "c9fefc23",
   "metadata": {},
   "source": [
    "- route penerbangan = \n",
    "AKL - KUL\n",
    "PEN - TPE\n",
    "MEL - SGN\n",
    "ICN - SIN\n",
    "DMK - KIX\n",
    "\n",
    "- future plan > change with other option except the 5 first\n"
   ]
  },
  {
   "cell_type": "code",
   "execution_count": 53,
   "id": "9496dddd",
   "metadata": {
    "scrolled": true
   },
   "outputs": [
    {
     "data": {
      "text/plain": [
       "Australia               35.7%\n",
       "Malaysia                14.3%\n",
       "South Korea              9.1%\n",
       "Japan                    7.8%\n",
       "China                    6.8%\n",
       "                        ...  \n",
       "Panama                   0.0%\n",
       "Tonga                    0.0%\n",
       "Tanzania                 0.0%\n",
       "Bulgaria                 0.0%\n",
       "Svalbard & Jan Mayen     0.0%\n",
       "Name: booking_origin, Length: 104, dtype: object"
      ]
     },
     "execution_count": 53,
     "metadata": {},
     "output_type": "execute_result"
    }
   ],
   "source": [
    "#percentage trip_type rate\n",
    "pre_bo= df_cust.booking_origin.value_counts(normalize=True).mul(100).round(1).astype(str) + '%'\n",
    "pre_bo"
   ]
  },
  {
   "cell_type": "code",
   "execution_count": 54,
   "id": "ddc827b0",
   "metadata": {},
   "outputs": [
    {
     "data": {
      "text/plain": [
       "Australia               17872\n",
       "Malaysia                 7174\n",
       "South Korea              4559\n",
       "Japan                    3885\n",
       "China                    3387\n",
       "                        ...  \n",
       "Panama                      1\n",
       "Tonga                       1\n",
       "Tanzania                    1\n",
       "Bulgaria                    1\n",
       "Svalbard & Jan Mayen        1\n",
       "Name: booking_origin, Length: 104, dtype: int64"
      ]
     },
     "execution_count": 54,
     "metadata": {},
     "output_type": "execute_result"
    }
   ],
   "source": [
    "df_cust['booking_origin'].value_counts()"
   ]
  },
  {
   "cell_type": "markdown",
   "id": "aeef47c7",
   "metadata": {},
   "source": [
    "- booking origin terbanyak terdapat di Australia, Malaysia, South Korea, Japan dan China\n",
    "- future plan > nati yang lain di ganti other opt"
   ]
  },
  {
   "cell_type": "code",
   "execution_count": 55,
   "id": "4a9d11f4",
   "metadata": {},
   "outputs": [
    {
     "data": {
      "text/plain": [
       "<AxesSubplot:xlabel='sales_channel', ylabel='count'>"
      ]
     },
     "execution_count": 55,
     "metadata": {},
     "output_type": "execute_result"
    },
    {
     "data": {
      "image/png": "[encoded data removed]",
      "text/plain": [
       "<Figure size 640x480 with 1 Axes>"
      ]
     },
     "metadata": {},
     "output_type": "display_data"
    }
   ],
   "source": [
    "sns.countplot(df_cust['sales_channel'], hue=df_cust['booking_complete'], palette = 'Blues_d')"
   ]
  },
  {
   "cell_type": "code",
   "execution_count": 56,
   "id": "beef2725",
   "metadata": {
    "scrolled": true
   },
   "outputs": [
    {
     "data": {
      "text/plain": [
       "Internet    88.8%\n",
       "Mobile      11.2%\n",
       "Name: sales_channel, dtype: object"
      ]
     },
     "execution_count": 56,
     "metadata": {},
     "output_type": "execute_result"
    }
   ],
   "source": [
    "#percentage trip_type rate\n",
    "prec= df_cust.sales_channel.value_counts(normalize=True).mul(100).round(1).astype(str) + '%'\n",
    "prec"
   ]
  },
  {
   "cell_type": "markdown",
   "id": "ea661aaa",
   "metadata": {},
   "source": [
    "- 88.8%  customers order with internet with not complete booking\n",
    "- 11.2 % customer mengorder lewat mobile dan juga sama-sama didominasi dengan not complete booking"
   ]
  },
  {
   "cell_type": "markdown",
   "id": "3fc35679",
   "metadata": {},
   "source": [
    "**The target is booking_complete**"
   ]
  },
  {
   "cell_type": "code",
   "execution_count": 57,
   "id": "1fcad81a",
   "metadata": {},
   "outputs": [
    {
     "data": {
      "text/html": [
       "<div>\n",
       "<style scoped>\n",
       "    .dataframe tbody tr th:only-of-type {\n",
       "        vertical-align: middle;\n",
       "    }\n",
       "\n",
       "    .dataframe tbody tr th {\n",
       "        vertical-align: top;\n",
       "    }\n",
       "\n",
       "    .dataframe thead th {\n",
       "        text-align: right;\n",
       "    }\n",
       "</style>\n",
       "<table border=\"1\" class=\"dataframe\">\n",
       "  <thead>\n",
       "    <tr style=\"text-align: right;\">\n",
       "      <th></th>\n",
       "      <th>num_passengers</th>\n",
       "      <th>sales_channel</th>\n",
       "      <th>trip_type</th>\n",
       "      <th>purchase_lead</th>\n",
       "      <th>length_of_stay</th>\n",
       "      <th>flight_hour</th>\n",
       "      <th>flight_day</th>\n",
       "      <th>route</th>\n",
       "      <th>booking_origin</th>\n",
       "      <th>wants_extra_baggage</th>\n",
       "      <th>wants_preferred_seat</th>\n",
       "      <th>wants_in_flight_meals</th>\n",
       "      <th>flight_duration</th>\n",
       "      <th>booking_complete</th>\n",
       "    </tr>\n",
       "  </thead>\n",
       "  <tbody>\n",
       "    <tr>\n",
       "      <th>0</th>\n",
       "      <td>2</td>\n",
       "      <td>Internet</td>\n",
       "      <td>RoundTrip</td>\n",
       "      <td>262</td>\n",
       "      <td>19</td>\n",
       "      <td>7</td>\n",
       "      <td>Sat</td>\n",
       "      <td>AKLDEL</td>\n",
       "      <td>New Zealand</td>\n",
       "      <td>1</td>\n",
       "      <td>0</td>\n",
       "      <td>0</td>\n",
       "      <td>5.52</td>\n",
       "      <td>0</td>\n",
       "    </tr>\n",
       "    <tr>\n",
       "      <th>1</th>\n",
       "      <td>1</td>\n",
       "      <td>Internet</td>\n",
       "      <td>RoundTrip</td>\n",
       "      <td>112</td>\n",
       "      <td>20</td>\n",
       "      <td>3</td>\n",
       "      <td>Sat</td>\n",
       "      <td>AKLDEL</td>\n",
       "      <td>New Zealand</td>\n",
       "      <td>0</td>\n",
       "      <td>0</td>\n",
       "      <td>0</td>\n",
       "      <td>5.52</td>\n",
       "      <td>0</td>\n",
       "    </tr>\n",
       "    <tr>\n",
       "      <th>2</th>\n",
       "      <td>2</td>\n",
       "      <td>Internet</td>\n",
       "      <td>RoundTrip</td>\n",
       "      <td>243</td>\n",
       "      <td>22</td>\n",
       "      <td>17</td>\n",
       "      <td>Wed</td>\n",
       "      <td>AKLDEL</td>\n",
       "      <td>India</td>\n",
       "      <td>1</td>\n",
       "      <td>1</td>\n",
       "      <td>0</td>\n",
       "      <td>5.52</td>\n",
       "      <td>0</td>\n",
       "    </tr>\n",
       "  </tbody>\n",
       "</table>\n",
       "</div>"
      ],
      "text/plain": [
       "   num_passengers sales_channel  trip_type  purchase_lead  length_of_stay  \\\n",
       "0               2      Internet  RoundTrip            262              19   \n",
       "1               1      Internet  RoundTrip            112              20   \n",
       "2               2      Internet  RoundTrip            243              22   \n",
       "\n",
       "   flight_hour flight_day   route booking_origin  wants_extra_baggage  \\\n",
       "0            7        Sat  AKLDEL    New Zealand                    1   \n",
       "1            3        Sat  AKLDEL    New Zealand                    0   \n",
       "2           17        Wed  AKLDEL          India                    1   \n",
       "\n",
       "   wants_preferred_seat  wants_in_flight_meals  flight_duration  \\\n",
       "0                     0                      0             5.52   \n",
       "1                     0                      0             5.52   \n",
       "2                     1                      0             5.52   \n",
       "\n",
       "   booking_complete  \n",
       "0                 0  \n",
       "1                 0  \n",
       "2                 0  "
      ]
     },
     "execution_count": 57,
     "metadata": {},
     "output_type": "execute_result"
    }
   ],
   "source": [
    "df_cust.head(3)"
   ]
  },
  {
   "cell_type": "code",
   "execution_count": 58,
   "id": "9678e716",
   "metadata": {
    "scrolled": true
   },
   "outputs": [
    {
     "data": {
      "text/html": [
       "<div>\n",
       "<style scoped>\n",
       "    .dataframe tbody tr th:only-of-type {\n",
       "        vertical-align: middle;\n",
       "    }\n",
       "\n",
       "    .dataframe tbody tr th {\n",
       "        vertical-align: top;\n",
       "    }\n",
       "\n",
       "    .dataframe thead th {\n",
       "        text-align: right;\n",
       "    }\n",
       "</style>\n",
       "<table border=\"1\" class=\"dataframe\">\n",
       "  <thead>\n",
       "    <tr style=\"text-align: right;\">\n",
       "      <th></th>\n",
       "      <th>num_passengers</th>\n",
       "      <th>sales_channel</th>\n",
       "      <th>trip_type</th>\n",
       "      <th>purchase_lead</th>\n",
       "      <th>length_of_stay</th>\n",
       "      <th>flight_hour</th>\n",
       "      <th>flight_day</th>\n",
       "      <th>route</th>\n",
       "      <th>booking_origin</th>\n",
       "      <th>wants_extra_baggage</th>\n",
       "      <th>wants_preferred_seat</th>\n",
       "      <th>wants_in_flight_meals</th>\n",
       "      <th>flight_duration</th>\n",
       "      <th>booking_complete</th>\n",
       "    </tr>\n",
       "  </thead>\n",
       "  <tbody>\n",
       "    <tr>\n",
       "      <th>42242</th>\n",
       "      <td>2</td>\n",
       "      <td>Internet</td>\n",
       "      <td>RoundTrip</td>\n",
       "      <td>27</td>\n",
       "      <td>5</td>\n",
       "      <td>3</td>\n",
       "      <td>Sat</td>\n",
       "      <td>URTXIY</td>\n",
       "      <td>China</td>\n",
       "      <td>1</td>\n",
       "      <td>0</td>\n",
       "      <td>0</td>\n",
       "      <td>5.00</td>\n",
       "      <td>0</td>\n",
       "    </tr>\n",
       "    <tr>\n",
       "      <th>25593</th>\n",
       "      <td>2</td>\n",
       "      <td>Internet</td>\n",
       "      <td>RoundTrip</td>\n",
       "      <td>22</td>\n",
       "      <td>30</td>\n",
       "      <td>7</td>\n",
       "      <td>Fri</td>\n",
       "      <td>TWUXIY</td>\n",
       "      <td>China</td>\n",
       "      <td>1</td>\n",
       "      <td>1</td>\n",
       "      <td>0</td>\n",
       "      <td>5.00</td>\n",
       "      <td>0</td>\n",
       "    </tr>\n",
       "    <tr>\n",
       "      <th>25594</th>\n",
       "      <td>1</td>\n",
       "      <td>Internet</td>\n",
       "      <td>RoundTrip</td>\n",
       "      <td>20</td>\n",
       "      <td>28</td>\n",
       "      <td>16</td>\n",
       "      <td>Thu</td>\n",
       "      <td>TWUXIY</td>\n",
       "      <td>China</td>\n",
       "      <td>1</td>\n",
       "      <td>0</td>\n",
       "      <td>0</td>\n",
       "      <td>5.00</td>\n",
       "      <td>0</td>\n",
       "    </tr>\n",
       "    <tr>\n",
       "      <th>25595</th>\n",
       "      <td>1</td>\n",
       "      <td>Internet</td>\n",
       "      <td>RoundTrip</td>\n",
       "      <td>28</td>\n",
       "      <td>26</td>\n",
       "      <td>9</td>\n",
       "      <td>Wed</td>\n",
       "      <td>TWUXIY</td>\n",
       "      <td>Malaysia</td>\n",
       "      <td>1</td>\n",
       "      <td>0</td>\n",
       "      <td>1</td>\n",
       "      <td>5.00</td>\n",
       "      <td>0</td>\n",
       "    </tr>\n",
       "    <tr>\n",
       "      <th>34956</th>\n",
       "      <td>2</td>\n",
       "      <td>Internet</td>\n",
       "      <td>RoundTrip</td>\n",
       "      <td>175</td>\n",
       "      <td>4</td>\n",
       "      <td>13</td>\n",
       "      <td>Mon</td>\n",
       "      <td>TWUXIY</td>\n",
       "      <td>China</td>\n",
       "      <td>0</td>\n",
       "      <td>0</td>\n",
       "      <td>0</td>\n",
       "      <td>5.00</td>\n",
       "      <td>0</td>\n",
       "    </tr>\n",
       "    <tr>\n",
       "      <th>42241</th>\n",
       "      <td>2</td>\n",
       "      <td>Internet</td>\n",
       "      <td>RoundTrip</td>\n",
       "      <td>29</td>\n",
       "      <td>5</td>\n",
       "      <td>9</td>\n",
       "      <td>Thu</td>\n",
       "      <td>TWUXIY</td>\n",
       "      <td>China</td>\n",
       "      <td>0</td>\n",
       "      <td>0</td>\n",
       "      <td>0</td>\n",
       "      <td>5.00</td>\n",
       "      <td>0</td>\n",
       "    </tr>\n",
       "    <tr>\n",
       "      <th>25596</th>\n",
       "      <td>1</td>\n",
       "      <td>Internet</td>\n",
       "      <td>RoundTrip</td>\n",
       "      <td>34</td>\n",
       "      <td>60</td>\n",
       "      <td>5</td>\n",
       "      <td>Tue</td>\n",
       "      <td>TWUXIY</td>\n",
       "      <td>Malaysia</td>\n",
       "      <td>0</td>\n",
       "      <td>0</td>\n",
       "      <td>0</td>\n",
       "      <td>5.00</td>\n",
       "      <td>1</td>\n",
       "    </tr>\n",
       "    <tr>\n",
       "      <th>42240</th>\n",
       "      <td>2</td>\n",
       "      <td>Internet</td>\n",
       "      <td>RoundTrip</td>\n",
       "      <td>33</td>\n",
       "      <td>5</td>\n",
       "      <td>2</td>\n",
       "      <td>Sun</td>\n",
       "      <td>TWUXIY</td>\n",
       "      <td>China</td>\n",
       "      <td>1</td>\n",
       "      <td>1</td>\n",
       "      <td>1</td>\n",
       "      <td>5.00</td>\n",
       "      <td>1</td>\n",
       "    </tr>\n",
       "    <tr>\n",
       "      <th>34955</th>\n",
       "      <td>2</td>\n",
       "      <td>Internet</td>\n",
       "      <td>RoundTrip</td>\n",
       "      <td>44</td>\n",
       "      <td>4</td>\n",
       "      <td>8</td>\n",
       "      <td>Sat</td>\n",
       "      <td>TWUWUH</td>\n",
       "      <td>China</td>\n",
       "      <td>1</td>\n",
       "      <td>0</td>\n",
       "      <td>0</td>\n",
       "      <td>5.13</td>\n",
       "      <td>0</td>\n",
       "    </tr>\n",
       "    <tr>\n",
       "      <th>42239</th>\n",
       "      <td>2</td>\n",
       "      <td>Internet</td>\n",
       "      <td>RoundTrip</td>\n",
       "      <td>17</td>\n",
       "      <td>5</td>\n",
       "      <td>10</td>\n",
       "      <td>Wed</td>\n",
       "      <td>TWUWUH</td>\n",
       "      <td>China</td>\n",
       "      <td>1</td>\n",
       "      <td>0</td>\n",
       "      <td>0</td>\n",
       "      <td>5.13</td>\n",
       "      <td>1</td>\n",
       "    </tr>\n",
       "    <tr>\n",
       "      <th>25587</th>\n",
       "      <td>1</td>\n",
       "      <td>Internet</td>\n",
       "      <td>RoundTrip</td>\n",
       "      <td>39</td>\n",
       "      <td>44</td>\n",
       "      <td>22</td>\n",
       "      <td>Thu</td>\n",
       "      <td>TRZXIY</td>\n",
       "      <td>China</td>\n",
       "      <td>1</td>\n",
       "      <td>0</td>\n",
       "      <td>1</td>\n",
       "      <td>5.00</td>\n",
       "      <td>0</td>\n",
       "    </tr>\n",
       "    <tr>\n",
       "      <th>25588</th>\n",
       "      <td>1</td>\n",
       "      <td>Internet</td>\n",
       "      <td>RoundTrip</td>\n",
       "      <td>54</td>\n",
       "      <td>37</td>\n",
       "      <td>9</td>\n",
       "      <td>Mon</td>\n",
       "      <td>TRZXIY</td>\n",
       "      <td>China</td>\n",
       "      <td>0</td>\n",
       "      <td>0</td>\n",
       "      <td>1</td>\n",
       "      <td>5.00</td>\n",
       "      <td>0</td>\n",
       "    </tr>\n",
       "    <tr>\n",
       "      <th>25589</th>\n",
       "      <td>1</td>\n",
       "      <td>Internet</td>\n",
       "      <td>RoundTrip</td>\n",
       "      <td>42</td>\n",
       "      <td>51</td>\n",
       "      <td>15</td>\n",
       "      <td>Sat</td>\n",
       "      <td>TRZXIY</td>\n",
       "      <td>United Arab Emirates</td>\n",
       "      <td>1</td>\n",
       "      <td>0</td>\n",
       "      <td>1</td>\n",
       "      <td>5.00</td>\n",
       "      <td>0</td>\n",
       "    </tr>\n",
       "    <tr>\n",
       "      <th>25590</th>\n",
       "      <td>2</td>\n",
       "      <td>Internet</td>\n",
       "      <td>RoundTrip</td>\n",
       "      <td>122</td>\n",
       "      <td>60</td>\n",
       "      <td>5</td>\n",
       "      <td>Fri</td>\n",
       "      <td>TRZXIY</td>\n",
       "      <td>India</td>\n",
       "      <td>1</td>\n",
       "      <td>0</td>\n",
       "      <td>0</td>\n",
       "      <td>5.00</td>\n",
       "      <td>0</td>\n",
       "    </tr>\n",
       "    <tr>\n",
       "      <th>25591</th>\n",
       "      <td>2</td>\n",
       "      <td>Internet</td>\n",
       "      <td>RoundTrip</td>\n",
       "      <td>81</td>\n",
       "      <td>39</td>\n",
       "      <td>11</td>\n",
       "      <td>Tue</td>\n",
       "      <td>TRZXIY</td>\n",
       "      <td>China</td>\n",
       "      <td>1</td>\n",
       "      <td>0</td>\n",
       "      <td>1</td>\n",
       "      <td>5.00</td>\n",
       "      <td>0</td>\n",
       "    </tr>\n",
       "    <tr>\n",
       "      <th>25592</th>\n",
       "      <td>1</td>\n",
       "      <td>Internet</td>\n",
       "      <td>RoundTrip</td>\n",
       "      <td>42</td>\n",
       "      <td>67</td>\n",
       "      <td>14</td>\n",
       "      <td>Mon</td>\n",
       "      <td>TRZXIY</td>\n",
       "      <td>(not set)</td>\n",
       "      <td>1</td>\n",
       "      <td>0</td>\n",
       "      <td>0</td>\n",
       "      <td>5.00</td>\n",
       "      <td>0</td>\n",
       "    </tr>\n",
       "    <tr>\n",
       "      <th>25574</th>\n",
       "      <td>1</td>\n",
       "      <td>Internet</td>\n",
       "      <td>RoundTrip</td>\n",
       "      <td>122</td>\n",
       "      <td>65</td>\n",
       "      <td>13</td>\n",
       "      <td>Mon</td>\n",
       "      <td>TRZWUH</td>\n",
       "      <td>China</td>\n",
       "      <td>1</td>\n",
       "      <td>1</td>\n",
       "      <td>1</td>\n",
       "      <td>5.13</td>\n",
       "      <td>0</td>\n",
       "    </tr>\n",
       "    <tr>\n",
       "      <th>25575</th>\n",
       "      <td>2</td>\n",
       "      <td>Internet</td>\n",
       "      <td>RoundTrip</td>\n",
       "      <td>127</td>\n",
       "      <td>63</td>\n",
       "      <td>4</td>\n",
       "      <td>Sun</td>\n",
       "      <td>TRZWUH</td>\n",
       "      <td>India</td>\n",
       "      <td>1</td>\n",
       "      <td>1</td>\n",
       "      <td>1</td>\n",
       "      <td>5.13</td>\n",
       "      <td>0</td>\n",
       "    </tr>\n",
       "    <tr>\n",
       "      <th>25576</th>\n",
       "      <td>1</td>\n",
       "      <td>Internet</td>\n",
       "      <td>RoundTrip</td>\n",
       "      <td>125</td>\n",
       "      <td>59</td>\n",
       "      <td>7</td>\n",
       "      <td>Sun</td>\n",
       "      <td>TRZWUH</td>\n",
       "      <td>China</td>\n",
       "      <td>1</td>\n",
       "      <td>0</td>\n",
       "      <td>1</td>\n",
       "      <td>5.13</td>\n",
       "      <td>0</td>\n",
       "    </tr>\n",
       "    <tr>\n",
       "      <th>25577</th>\n",
       "      <td>1</td>\n",
       "      <td>Internet</td>\n",
       "      <td>RoundTrip</td>\n",
       "      <td>125</td>\n",
       "      <td>59</td>\n",
       "      <td>6</td>\n",
       "      <td>Sun</td>\n",
       "      <td>TRZWUH</td>\n",
       "      <td>China</td>\n",
       "      <td>1</td>\n",
       "      <td>0</td>\n",
       "      <td>1</td>\n",
       "      <td>5.13</td>\n",
       "      <td>0</td>\n",
       "    </tr>\n",
       "    <tr>\n",
       "      <th>25578</th>\n",
       "      <td>1</td>\n",
       "      <td>Internet</td>\n",
       "      <td>RoundTrip</td>\n",
       "      <td>125</td>\n",
       "      <td>59</td>\n",
       "      <td>7</td>\n",
       "      <td>Sun</td>\n",
       "      <td>TRZWUH</td>\n",
       "      <td>China</td>\n",
       "      <td>1</td>\n",
       "      <td>0</td>\n",
       "      <td>1</td>\n",
       "      <td>5.13</td>\n",
       "      <td>0</td>\n",
       "    </tr>\n",
       "    <tr>\n",
       "      <th>25579</th>\n",
       "      <td>1</td>\n",
       "      <td>Internet</td>\n",
       "      <td>RoundTrip</td>\n",
       "      <td>123</td>\n",
       "      <td>62</td>\n",
       "      <td>14</td>\n",
       "      <td>Mon</td>\n",
       "      <td>TRZWUH</td>\n",
       "      <td>China</td>\n",
       "      <td>1</td>\n",
       "      <td>1</td>\n",
       "      <td>1</td>\n",
       "      <td>5.13</td>\n",
       "      <td>0</td>\n",
       "    </tr>\n",
       "    <tr>\n",
       "      <th>25580</th>\n",
       "      <td>1</td>\n",
       "      <td>Internet</td>\n",
       "      <td>RoundTrip</td>\n",
       "      <td>129</td>\n",
       "      <td>63</td>\n",
       "      <td>15</td>\n",
       "      <td>Fri</td>\n",
       "      <td>TRZWUH</td>\n",
       "      <td>Taiwan</td>\n",
       "      <td>1</td>\n",
       "      <td>0</td>\n",
       "      <td>1</td>\n",
       "      <td>5.13</td>\n",
       "      <td>0</td>\n",
       "    </tr>\n",
       "    <tr>\n",
       "      <th>25581</th>\n",
       "      <td>1</td>\n",
       "      <td>Internet</td>\n",
       "      <td>RoundTrip</td>\n",
       "      <td>127</td>\n",
       "      <td>67</td>\n",
       "      <td>8</td>\n",
       "      <td>Sun</td>\n",
       "      <td>TRZWUH</td>\n",
       "      <td>China</td>\n",
       "      <td>1</td>\n",
       "      <td>0</td>\n",
       "      <td>1</td>\n",
       "      <td>5.13</td>\n",
       "      <td>0</td>\n",
       "    </tr>\n",
       "    <tr>\n",
       "      <th>25582</th>\n",
       "      <td>1</td>\n",
       "      <td>Internet</td>\n",
       "      <td>RoundTrip</td>\n",
       "      <td>127</td>\n",
       "      <td>67</td>\n",
       "      <td>8</td>\n",
       "      <td>Sun</td>\n",
       "      <td>TRZWUH</td>\n",
       "      <td>China</td>\n",
       "      <td>1</td>\n",
       "      <td>0</td>\n",
       "      <td>1</td>\n",
       "      <td>5.13</td>\n",
       "      <td>0</td>\n",
       "    </tr>\n",
       "    <tr>\n",
       "      <th>25583</th>\n",
       "      <td>1</td>\n",
       "      <td>Internet</td>\n",
       "      <td>RoundTrip</td>\n",
       "      <td>123</td>\n",
       "      <td>62</td>\n",
       "      <td>14</td>\n",
       "      <td>Mon</td>\n",
       "      <td>TRZWUH</td>\n",
       "      <td>China</td>\n",
       "      <td>1</td>\n",
       "      <td>1</td>\n",
       "      <td>1</td>\n",
       "      <td>5.13</td>\n",
       "      <td>0</td>\n",
       "    </tr>\n",
       "    <tr>\n",
       "      <th>25584</th>\n",
       "      <td>1</td>\n",
       "      <td>Internet</td>\n",
       "      <td>RoundTrip</td>\n",
       "      <td>127</td>\n",
       "      <td>51</td>\n",
       "      <td>6</td>\n",
       "      <td>Sun</td>\n",
       "      <td>TRZWUH</td>\n",
       "      <td>China</td>\n",
       "      <td>1</td>\n",
       "      <td>0</td>\n",
       "      <td>1</td>\n",
       "      <td>5.13</td>\n",
       "      <td>0</td>\n",
       "    </tr>\n",
       "    <tr>\n",
       "      <th>25585</th>\n",
       "      <td>1</td>\n",
       "      <td>Internet</td>\n",
       "      <td>RoundTrip</td>\n",
       "      <td>119</td>\n",
       "      <td>61</td>\n",
       "      <td>11</td>\n",
       "      <td>Mon</td>\n",
       "      <td>TRZWUH</td>\n",
       "      <td>China</td>\n",
       "      <td>1</td>\n",
       "      <td>1</td>\n",
       "      <td>1</td>\n",
       "      <td>5.13</td>\n",
       "      <td>0</td>\n",
       "    </tr>\n",
       "    <tr>\n",
       "      <th>25586</th>\n",
       "      <td>1</td>\n",
       "      <td>Internet</td>\n",
       "      <td>RoundTrip</td>\n",
       "      <td>129</td>\n",
       "      <td>63</td>\n",
       "      <td>17</td>\n",
       "      <td>Fri</td>\n",
       "      <td>TRZWUH</td>\n",
       "      <td>Taiwan</td>\n",
       "      <td>1</td>\n",
       "      <td>0</td>\n",
       "      <td>1</td>\n",
       "      <td>5.13</td>\n",
       "      <td>0</td>\n",
       "    </tr>\n",
       "    <tr>\n",
       "      <th>25572</th>\n",
       "      <td>1</td>\n",
       "      <td>Internet</td>\n",
       "      <td>RoundTrip</td>\n",
       "      <td>3</td>\n",
       "      <td>152</td>\n",
       "      <td>13</td>\n",
       "      <td>Fri</td>\n",
       "      <td>TPEVTE</td>\n",
       "      <td>Taiwan</td>\n",
       "      <td>1</td>\n",
       "      <td>0</td>\n",
       "      <td>1</td>\n",
       "      <td>4.67</td>\n",
       "      <td>0</td>\n",
       "    </tr>\n",
       "    <tr>\n",
       "      <th>25573</th>\n",
       "      <td>1</td>\n",
       "      <td>Internet</td>\n",
       "      <td>RoundTrip</td>\n",
       "      <td>3</td>\n",
       "      <td>43</td>\n",
       "      <td>13</td>\n",
       "      <td>Fri</td>\n",
       "      <td>TPEVTE</td>\n",
       "      <td>Taiwan</td>\n",
       "      <td>1</td>\n",
       "      <td>0</td>\n",
       "      <td>1</td>\n",
       "      <td>4.67</td>\n",
       "      <td>0</td>\n",
       "    </tr>\n",
       "    <tr>\n",
       "      <th>42238</th>\n",
       "      <td>2</td>\n",
       "      <td>Internet</td>\n",
       "      <td>RoundTrip</td>\n",
       "      <td>87</td>\n",
       "      <td>5</td>\n",
       "      <td>8</td>\n",
       "      <td>Thu</td>\n",
       "      <td>TPEURT</td>\n",
       "      <td>Taiwan</td>\n",
       "      <td>0</td>\n",
       "      <td>1</td>\n",
       "      <td>1</td>\n",
       "      <td>4.67</td>\n",
       "      <td>0</td>\n",
       "    </tr>\n",
       "    <tr>\n",
       "      <th>29301</th>\n",
       "      <td>1</td>\n",
       "      <td>Internet</td>\n",
       "      <td>RoundTrip</td>\n",
       "      <td>59</td>\n",
       "      <td>3</td>\n",
       "      <td>3</td>\n",
       "      <td>Tue</td>\n",
       "      <td>TPETWU</td>\n",
       "      <td>Taiwan</td>\n",
       "      <td>0</td>\n",
       "      <td>0</td>\n",
       "      <td>0</td>\n",
       "      <td>4.67</td>\n",
       "      <td>0</td>\n",
       "    </tr>\n",
       "    <tr>\n",
       "      <th>42235</th>\n",
       "      <td>1</td>\n",
       "      <td>Internet</td>\n",
       "      <td>RoundTrip</td>\n",
       "      <td>43</td>\n",
       "      <td>5</td>\n",
       "      <td>3</td>\n",
       "      <td>Thu</td>\n",
       "      <td>TPETWU</td>\n",
       "      <td>Taiwan</td>\n",
       "      <td>1</td>\n",
       "      <td>0</td>\n",
       "      <td>0</td>\n",
       "      <td>4.67</td>\n",
       "      <td>0</td>\n",
       "    </tr>\n",
       "    <tr>\n",
       "      <th>42236</th>\n",
       "      <td>7</td>\n",
       "      <td>Internet</td>\n",
       "      <td>RoundTrip</td>\n",
       "      <td>40</td>\n",
       "      <td>5</td>\n",
       "      <td>21</td>\n",
       "      <td>Sun</td>\n",
       "      <td>TPETWU</td>\n",
       "      <td>Taiwan</td>\n",
       "      <td>0</td>\n",
       "      <td>0</td>\n",
       "      <td>0</td>\n",
       "      <td>4.67</td>\n",
       "      <td>0</td>\n",
       "    </tr>\n",
       "    <tr>\n",
       "      <th>42237</th>\n",
       "      <td>1</td>\n",
       "      <td>Internet</td>\n",
       "      <td>RoundTrip</td>\n",
       "      <td>12</td>\n",
       "      <td>5</td>\n",
       "      <td>15</td>\n",
       "      <td>Thu</td>\n",
       "      <td>TPETWU</td>\n",
       "      <td>Taiwan</td>\n",
       "      <td>0</td>\n",
       "      <td>0</td>\n",
       "      <td>0</td>\n",
       "      <td>4.67</td>\n",
       "      <td>0</td>\n",
       "    </tr>\n",
       "    <tr>\n",
       "      <th>34953</th>\n",
       "      <td>2</td>\n",
       "      <td>Internet</td>\n",
       "      <td>RoundTrip</td>\n",
       "      <td>246</td>\n",
       "      <td>4</td>\n",
       "      <td>16</td>\n",
       "      <td>Thu</td>\n",
       "      <td>TPETWU</td>\n",
       "      <td>Taiwan</td>\n",
       "      <td>0</td>\n",
       "      <td>0</td>\n",
       "      <td>0</td>\n",
       "      <td>4.67</td>\n",
       "      <td>1</td>\n",
       "    </tr>\n",
       "    <tr>\n",
       "      <th>34954</th>\n",
       "      <td>2</td>\n",
       "      <td>Internet</td>\n",
       "      <td>RoundTrip</td>\n",
       "      <td>83</td>\n",
       "      <td>4</td>\n",
       "      <td>15</td>\n",
       "      <td>Sat</td>\n",
       "      <td>TPETWU</td>\n",
       "      <td>Taiwan</td>\n",
       "      <td>0</td>\n",
       "      <td>0</td>\n",
       "      <td>0</td>\n",
       "      <td>4.67</td>\n",
       "      <td>1</td>\n",
       "    </tr>\n",
       "    <tr>\n",
       "      <th>25551</th>\n",
       "      <td>1</td>\n",
       "      <td>Internet</td>\n",
       "      <td>RoundTrip</td>\n",
       "      <td>19</td>\n",
       "      <td>89</td>\n",
       "      <td>14</td>\n",
       "      <td>Sat</td>\n",
       "      <td>TPETRZ</td>\n",
       "      <td>Taiwan</td>\n",
       "      <td>1</td>\n",
       "      <td>0</td>\n",
       "      <td>1</td>\n",
       "      <td>4.67</td>\n",
       "      <td>0</td>\n",
       "    </tr>\n",
       "    <tr>\n",
       "      <th>25552</th>\n",
       "      <td>1</td>\n",
       "      <td>Internet</td>\n",
       "      <td>RoundTrip</td>\n",
       "      <td>88</td>\n",
       "      <td>47</td>\n",
       "      <td>7</td>\n",
       "      <td>Sat</td>\n",
       "      <td>TPETRZ</td>\n",
       "      <td>Taiwan</td>\n",
       "      <td>1</td>\n",
       "      <td>0</td>\n",
       "      <td>1</td>\n",
       "      <td>4.67</td>\n",
       "      <td>0</td>\n",
       "    </tr>\n",
       "    <tr>\n",
       "      <th>25553</th>\n",
       "      <td>1</td>\n",
       "      <td>Internet</td>\n",
       "      <td>RoundTrip</td>\n",
       "      <td>78</td>\n",
       "      <td>58</td>\n",
       "      <td>3</td>\n",
       "      <td>Sun</td>\n",
       "      <td>TPETRZ</td>\n",
       "      <td>Taiwan</td>\n",
       "      <td>1</td>\n",
       "      <td>0</td>\n",
       "      <td>1</td>\n",
       "      <td>4.67</td>\n",
       "      <td>0</td>\n",
       "    </tr>\n",
       "    <tr>\n",
       "      <th>25554</th>\n",
       "      <td>1</td>\n",
       "      <td>Internet</td>\n",
       "      <td>RoundTrip</td>\n",
       "      <td>33</td>\n",
       "      <td>26</td>\n",
       "      <td>15</td>\n",
       "      <td>Mon</td>\n",
       "      <td>TPETRZ</td>\n",
       "      <td>Taiwan</td>\n",
       "      <td>1</td>\n",
       "      <td>0</td>\n",
       "      <td>1</td>\n",
       "      <td>4.67</td>\n",
       "      <td>0</td>\n",
       "    </tr>\n",
       "    <tr>\n",
       "      <th>25555</th>\n",
       "      <td>2</td>\n",
       "      <td>Internet</td>\n",
       "      <td>RoundTrip</td>\n",
       "      <td>68</td>\n",
       "      <td>28</td>\n",
       "      <td>15</td>\n",
       "      <td>Mon</td>\n",
       "      <td>TPETRZ</td>\n",
       "      <td>Taiwan</td>\n",
       "      <td>1</td>\n",
       "      <td>0</td>\n",
       "      <td>1</td>\n",
       "      <td>4.67</td>\n",
       "      <td>0</td>\n",
       "    </tr>\n",
       "    <tr>\n",
       "      <th>25556</th>\n",
       "      <td>2</td>\n",
       "      <td>Internet</td>\n",
       "      <td>RoundTrip</td>\n",
       "      <td>165</td>\n",
       "      <td>30</td>\n",
       "      <td>13</td>\n",
       "      <td>Fri</td>\n",
       "      <td>TPETRZ</td>\n",
       "      <td>Taiwan</td>\n",
       "      <td>1</td>\n",
       "      <td>0</td>\n",
       "      <td>1</td>\n",
       "      <td>4.67</td>\n",
       "      <td>0</td>\n",
       "    </tr>\n",
       "    <tr>\n",
       "      <th>25557</th>\n",
       "      <td>2</td>\n",
       "      <td>Internet</td>\n",
       "      <td>RoundTrip</td>\n",
       "      <td>68</td>\n",
       "      <td>22</td>\n",
       "      <td>12</td>\n",
       "      <td>Sun</td>\n",
       "      <td>TPETRZ</td>\n",
       "      <td>Taiwan</td>\n",
       "      <td>1</td>\n",
       "      <td>1</td>\n",
       "      <td>0</td>\n",
       "      <td>4.67</td>\n",
       "      <td>0</td>\n",
       "    </tr>\n",
       "    <tr>\n",
       "      <th>25558</th>\n",
       "      <td>1</td>\n",
       "      <td>Internet</td>\n",
       "      <td>RoundTrip</td>\n",
       "      <td>41</td>\n",
       "      <td>43</td>\n",
       "      <td>5</td>\n",
       "      <td>Tue</td>\n",
       "      <td>TPETRZ</td>\n",
       "      <td>Taiwan</td>\n",
       "      <td>1</td>\n",
       "      <td>0</td>\n",
       "      <td>1</td>\n",
       "      <td>4.67</td>\n",
       "      <td>0</td>\n",
       "    </tr>\n",
       "    <tr>\n",
       "      <th>25559</th>\n",
       "      <td>1</td>\n",
       "      <td>Internet</td>\n",
       "      <td>RoundTrip</td>\n",
       "      <td>33</td>\n",
       "      <td>27</td>\n",
       "      <td>6</td>\n",
       "      <td>Thu</td>\n",
       "      <td>TPETRZ</td>\n",
       "      <td>Taiwan</td>\n",
       "      <td>1</td>\n",
       "      <td>0</td>\n",
       "      <td>1</td>\n",
       "      <td>4.67</td>\n",
       "      <td>0</td>\n",
       "    </tr>\n",
       "    <tr>\n",
       "      <th>25560</th>\n",
       "      <td>1</td>\n",
       "      <td>Internet</td>\n",
       "      <td>RoundTrip</td>\n",
       "      <td>72</td>\n",
       "      <td>39</td>\n",
       "      <td>4</td>\n",
       "      <td>Mon</td>\n",
       "      <td>TPETRZ</td>\n",
       "      <td>Taiwan</td>\n",
       "      <td>1</td>\n",
       "      <td>1</td>\n",
       "      <td>1</td>\n",
       "      <td>4.67</td>\n",
       "      <td>0</td>\n",
       "    </tr>\n",
       "    <tr>\n",
       "      <th>25561</th>\n",
       "      <td>1</td>\n",
       "      <td>Internet</td>\n",
       "      <td>RoundTrip</td>\n",
       "      <td>12</td>\n",
       "      <td>18</td>\n",
       "      <td>11</td>\n",
       "      <td>Fri</td>\n",
       "      <td>TPETRZ</td>\n",
       "      <td>Taiwan</td>\n",
       "      <td>1</td>\n",
       "      <td>0</td>\n",
       "      <td>1</td>\n",
       "      <td>4.67</td>\n",
       "      <td>0</td>\n",
       "    </tr>\n",
       "    <tr>\n",
       "      <th>25562</th>\n",
       "      <td>1</td>\n",
       "      <td>Internet</td>\n",
       "      <td>RoundTrip</td>\n",
       "      <td>52</td>\n",
       "      <td>32</td>\n",
       "      <td>16</td>\n",
       "      <td>Mon</td>\n",
       "      <td>TPETRZ</td>\n",
       "      <td>Taiwan</td>\n",
       "      <td>1</td>\n",
       "      <td>0</td>\n",
       "      <td>1</td>\n",
       "      <td>4.67</td>\n",
       "      <td>0</td>\n",
       "    </tr>\n",
       "  </tbody>\n",
       "</table>\n",
       "</div>"
      ],
      "text/plain": [
       "       num_passengers sales_channel  trip_type  purchase_lead  length_of_stay  \\\n",
       "42242               2      Internet  RoundTrip             27               5   \n",
       "25593               2      Internet  RoundTrip             22              30   \n",
       "25594               1      Internet  RoundTrip             20              28   \n",
       "25595               1      Internet  RoundTrip             28              26   \n",
       "34956               2      Internet  RoundTrip            175               4   \n",
       "42241               2      Internet  RoundTrip             29               5   \n",
       "25596               1      Internet  RoundTrip             34              60   \n",
       "42240               2      Internet  RoundTrip             33               5   \n",
       "34955               2      Internet  RoundTrip             44               4   \n",
       "42239               2      Internet  RoundTrip             17               5   \n",
       "25587               1      Internet  RoundTrip             39              44   \n",
       "25588               1      Internet  RoundTrip             54              37   \n",
       "25589               1      Internet  RoundTrip             42              51   \n",
       "25590               2      Internet  RoundTrip            122              60   \n",
       "25591               2      Internet  RoundTrip             81              39   \n",
       "25592               1      Internet  RoundTrip             42              67   \n",
       "25574               1      Internet  RoundTrip            122              65   \n",
       "25575               2      Internet  RoundTrip            127              63   \n",
       "25576               1      Internet  RoundTrip            125              59   \n",
       "25577               1      Internet  RoundTrip            125              59   \n",
       "25578               1      Internet  RoundTrip            125              59   \n",
       "25579               1      Internet  RoundTrip            123              62   \n",
       "25580               1      Internet  RoundTrip            129              63   \n",
       "25581               1      Internet  RoundTrip            127              67   \n",
       "25582               1      Internet  RoundTrip            127              67   \n",
       "25583               1      Internet  RoundTrip            123              62   \n",
       "25584               1      Internet  RoundTrip            127              51   \n",
       "25585               1      Internet  RoundTrip            119              61   \n",
       "25586               1      Internet  RoundTrip            129              63   \n",
       "25572               1      Internet  RoundTrip              3             152   \n",
       "25573               1      Internet  RoundTrip              3              43   \n",
       "42238               2      Internet  RoundTrip             87               5   \n",
       "29301               1      Internet  RoundTrip             59               3   \n",
       "42235               1      Internet  RoundTrip             43               5   \n",
       "42236               7      Internet  RoundTrip             40               5   \n",
       "42237               1      Internet  RoundTrip             12               5   \n",
       "34953               2      Internet  RoundTrip            246               4   \n",
       "34954               2      Internet  RoundTrip             83               4   \n",
       "25551               1      Internet  RoundTrip             19              89   \n",
       "25552               1      Internet  RoundTrip             88              47   \n",
       "25553               1      Internet  RoundTrip             78              58   \n",
       "25554               1      Internet  RoundTrip             33              26   \n",
       "25555               2      Internet  RoundTrip             68              28   \n",
       "25556               2      Internet  RoundTrip            165              30   \n",
       "25557               2      Internet  RoundTrip             68              22   \n",
       "25558               1      Internet  RoundTrip             41              43   \n",
       "25559               1      Internet  RoundTrip             33              27   \n",
       "25560               1      Internet  RoundTrip             72              39   \n",
       "25561               1      Internet  RoundTrip             12              18   \n",
       "25562               1      Internet  RoundTrip             52              32   \n",
       "\n",
       "       flight_hour flight_day   route        booking_origin  \\\n",
       "42242            3        Sat  URTXIY                 China   \n",
       "25593            7        Fri  TWUXIY                 China   \n",
       "25594           16        Thu  TWUXIY                 China   \n",
       "25595            9        Wed  TWUXIY              Malaysia   \n",
       "34956           13        Mon  TWUXIY                 China   \n",
       "42241            9        Thu  TWUXIY                 China   \n",
       "25596            5        Tue  TWUXIY              Malaysia   \n",
       "42240            2        Sun  TWUXIY                 China   \n",
       "34955            8        Sat  TWUWUH                 China   \n",
       "42239           10        Wed  TWUWUH                 China   \n",
       "25587           22        Thu  TRZXIY                 China   \n",
       "25588            9        Mon  TRZXIY                 China   \n",
       "25589           15        Sat  TRZXIY  United Arab Emirates   \n",
       "25590            5        Fri  TRZXIY                 India   \n",
       "25591           11        Tue  TRZXIY                 China   \n",
       "25592           14        Mon  TRZXIY             (not set)   \n",
       "25574           13        Mon  TRZWUH                 China   \n",
       "25575            4        Sun  TRZWUH                 India   \n",
       "25576            7        Sun  TRZWUH                 China   \n",
       "25577            6        Sun  TRZWUH                 China   \n",
       "25578            7        Sun  TRZWUH                 China   \n",
       "25579           14        Mon  TRZWUH                 China   \n",
       "25580           15        Fri  TRZWUH                Taiwan   \n",
       "25581            8        Sun  TRZWUH                 China   \n",
       "25582            8        Sun  TRZWUH                 China   \n",
       "25583           14        Mon  TRZWUH                 China   \n",
       "25584            6        Sun  TRZWUH                 China   \n",
       "25585           11        Mon  TRZWUH                 China   \n",
       "25586           17        Fri  TRZWUH                Taiwan   \n",
       "25572           13        Fri  TPEVTE                Taiwan   \n",
       "25573           13        Fri  TPEVTE                Taiwan   \n",
       "42238            8        Thu  TPEURT                Taiwan   \n",
       "29301            3        Tue  TPETWU                Taiwan   \n",
       "42235            3        Thu  TPETWU                Taiwan   \n",
       "42236           21        Sun  TPETWU                Taiwan   \n",
       "42237           15        Thu  TPETWU                Taiwan   \n",
       "34953           16        Thu  TPETWU                Taiwan   \n",
       "34954           15        Sat  TPETWU                Taiwan   \n",
       "25551           14        Sat  TPETRZ                Taiwan   \n",
       "25552            7        Sat  TPETRZ                Taiwan   \n",
       "25553            3        Sun  TPETRZ                Taiwan   \n",
       "25554           15        Mon  TPETRZ                Taiwan   \n",
       "25555           15        Mon  TPETRZ                Taiwan   \n",
       "25556           13        Fri  TPETRZ                Taiwan   \n",
       "25557           12        Sun  TPETRZ                Taiwan   \n",
       "25558            5        Tue  TPETRZ                Taiwan   \n",
       "25559            6        Thu  TPETRZ                Taiwan   \n",
       "25560            4        Mon  TPETRZ                Taiwan   \n",
       "25561           11        Fri  TPETRZ                Taiwan   \n",
       "25562           16        Mon  TPETRZ                Taiwan   \n",
       "\n",
       "       wants_extra_baggage  wants_preferred_seat  wants_in_flight_meals  \\\n",
       "42242                    1                     0                      0   \n",
       "25593                    1                     1                      0   \n",
       "25594                    1                     0                      0   \n",
       "25595                    1                     0                      1   \n",
       "34956                    0                     0                      0   \n",
       "42241                    0                     0                      0   \n",
       "25596                    0                     0                      0   \n",
       "42240                    1                     1                      1   \n",
       "34955                    1                     0                      0   \n",
       "42239                    1                     0                      0   \n",
       "25587                    1                     0                      1   \n",
       "25588                    0                     0                      1   \n",
       "25589                    1                     0                      1   \n",
       "25590                    1                     0                      0   \n",
       "25591                    1                     0                      1   \n",
       "25592                    1                     0                      0   \n",
       "25574                    1                     1                      1   \n",
       "25575                    1                     1                      1   \n",
       "25576                    1                     0                      1   \n",
       "25577                    1                     0                      1   \n",
       "25578                    1                     0                      1   \n",
       "25579                    1                     1                      1   \n",
       "25580                    1                     0                      1   \n",
       "25581                    1                     0                      1   \n",
       "25582                    1                     0                      1   \n",
       "25583                    1                     1                      1   \n",
       "25584                    1                     0                      1   \n",
       "25585                    1                     1                      1   \n",
       "25586                    1                     0                      1   \n",
       "25572                    1                     0                      1   \n",
       "25573                    1                     0                      1   \n",
       "42238                    0                     1                      1   \n",
       "29301                    0                     0                      0   \n",
       "42235                    1                     0                      0   \n",
       "42236                    0                     0                      0   \n",
       "42237                    0                     0                      0   \n",
       "34953                    0                     0                      0   \n",
       "34954                    0                     0                      0   \n",
       "25551                    1                     0                      1   \n",
       "25552                    1                     0                      1   \n",
       "25553                    1                     0                      1   \n",
       "25554                    1                     0                      1   \n",
       "25555                    1                     0                      1   \n",
       "25556                    1                     0                      1   \n",
       "25557                    1                     1                      0   \n",
       "25558                    1                     0                      1   \n",
       "25559                    1                     0                      1   \n",
       "25560                    1                     1                      1   \n",
       "25561                    1                     0                      1   \n",
       "25562                    1                     0                      1   \n",
       "\n",
       "       flight_duration  booking_complete  \n",
       "42242             5.00                 0  \n",
       "25593             5.00                 0  \n",
       "25594             5.00                 0  \n",
       "25595             5.00                 0  \n",
       "34956             5.00                 0  \n",
       "42241             5.00                 0  \n",
       "25596             5.00                 1  \n",
       "42240             5.00                 1  \n",
       "34955             5.13                 0  \n",
       "42239             5.13                 1  \n",
       "25587             5.00                 0  \n",
       "25588             5.00                 0  \n",
       "25589             5.00                 0  \n",
       "25590             5.00                 0  \n",
       "25591             5.00                 0  \n",
       "25592             5.00                 0  \n",
       "25574             5.13                 0  \n",
       "25575             5.13                 0  \n",
       "25576             5.13                 0  \n",
       "25577             5.13                 0  \n",
       "25578             5.13                 0  \n",
       "25579             5.13                 0  \n",
       "25580             5.13                 0  \n",
       "25581             5.13                 0  \n",
       "25582             5.13                 0  \n",
       "25583             5.13                 0  \n",
       "25584             5.13                 0  \n",
       "25585             5.13                 0  \n",
       "25586             5.13                 0  \n",
       "25572             4.67                 0  \n",
       "25573             4.67                 0  \n",
       "42238             4.67                 0  \n",
       "29301             4.67                 0  \n",
       "42235             4.67                 0  \n",
       "42236             4.67                 0  \n",
       "42237             4.67                 0  \n",
       "34953             4.67                 1  \n",
       "34954             4.67                 1  \n",
       "25551             4.67                 0  \n",
       "25552             4.67                 0  \n",
       "25553             4.67                 0  \n",
       "25554             4.67                 0  \n",
       "25555             4.67                 0  \n",
       "25556             4.67                 0  \n",
       "25557             4.67                 0  \n",
       "25558             4.67                 0  \n",
       "25559             4.67                 0  \n",
       "25560             4.67                 0  \n",
       "25561             4.67                 0  \n",
       "25562             4.67                 0  "
      ]
     },
     "execution_count": 58,
     "metadata": {},
     "output_type": "execute_result"
    }
   ],
   "source": [
    "df_cust.sort_values(by=['route', 'booking_complete'], \n",
    "                    ascending=[False, True]).head(50) #mengurutkan lebih dari 1 kolom"
   ]
  },
  {
   "cell_type": "code",
   "execution_count": 59,
   "id": "b0eaad1e",
   "metadata": {},
   "outputs": [
    {
     "data": {
      "text/html": [
       "<div>\n",
       "<style scoped>\n",
       "    .dataframe tbody tr th:only-of-type {\n",
       "        vertical-align: middle;\n",
       "    }\n",
       "\n",
       "    .dataframe tbody tr th {\n",
       "        vertical-align: top;\n",
       "    }\n",
       "\n",
       "    .dataframe thead th {\n",
       "        text-align: right;\n",
       "    }\n",
       "</style>\n",
       "<table border=\"1\" class=\"dataframe\">\n",
       "  <thead>\n",
       "    <tr style=\"text-align: right;\">\n",
       "      <th></th>\n",
       "      <th>num_passengers</th>\n",
       "      <th>sales_channel</th>\n",
       "      <th>trip_type</th>\n",
       "      <th>purchase_lead</th>\n",
       "      <th>length_of_stay</th>\n",
       "      <th>flight_hour</th>\n",
       "      <th>flight_day</th>\n",
       "      <th>route</th>\n",
       "      <th>booking_origin</th>\n",
       "      <th>wants_extra_baggage</th>\n",
       "      <th>wants_preferred_seat</th>\n",
       "      <th>wants_in_flight_meals</th>\n",
       "      <th>flight_duration</th>\n",
       "      <th>booking_complete</th>\n",
       "    </tr>\n",
       "  </thead>\n",
       "  <tbody>\n",
       "    <tr>\n",
       "      <th>82</th>\n",
       "      <td>1</td>\n",
       "      <td>Internet</td>\n",
       "      <td>RoundTrip</td>\n",
       "      <td>15</td>\n",
       "      <td>31</td>\n",
       "      <td>17</td>\n",
       "      <td>Mon</td>\n",
       "      <td>AKLKUL</td>\n",
       "      <td>Malaysia</td>\n",
       "      <td>0</td>\n",
       "      <td>0</td>\n",
       "      <td>0</td>\n",
       "      <td>8.83</td>\n",
       "      <td>1</td>\n",
       "    </tr>\n",
       "    <tr>\n",
       "      <th>86</th>\n",
       "      <td>1</td>\n",
       "      <td>Internet</td>\n",
       "      <td>RoundTrip</td>\n",
       "      <td>156</td>\n",
       "      <td>19</td>\n",
       "      <td>14</td>\n",
       "      <td>Mon</td>\n",
       "      <td>AKLKUL</td>\n",
       "      <td>Malaysia</td>\n",
       "      <td>1</td>\n",
       "      <td>0</td>\n",
       "      <td>0</td>\n",
       "      <td>8.83</td>\n",
       "      <td>1</td>\n",
       "    </tr>\n",
       "    <tr>\n",
       "      <th>94</th>\n",
       "      <td>1</td>\n",
       "      <td>Internet</td>\n",
       "      <td>RoundTrip</td>\n",
       "      <td>181</td>\n",
       "      <td>87</td>\n",
       "      <td>2</td>\n",
       "      <td>Tue</td>\n",
       "      <td>AKLKUL</td>\n",
       "      <td>Singapore</td>\n",
       "      <td>1</td>\n",
       "      <td>0</td>\n",
       "      <td>1</td>\n",
       "      <td>8.83</td>\n",
       "      <td>1</td>\n",
       "    </tr>\n",
       "    <tr>\n",
       "      <th>109</th>\n",
       "      <td>1</td>\n",
       "      <td>Mobile</td>\n",
       "      <td>RoundTrip</td>\n",
       "      <td>127</td>\n",
       "      <td>17</td>\n",
       "      <td>16</td>\n",
       "      <td>Tue</td>\n",
       "      <td>AKLKUL</td>\n",
       "      <td>Malaysia</td>\n",
       "      <td>1</td>\n",
       "      <td>0</td>\n",
       "      <td>1</td>\n",
       "      <td>8.83</td>\n",
       "      <td>1</td>\n",
       "    </tr>\n",
       "    <tr>\n",
       "      <th>122</th>\n",
       "      <td>1</td>\n",
       "      <td>Internet</td>\n",
       "      <td>RoundTrip</td>\n",
       "      <td>42</td>\n",
       "      <td>17</td>\n",
       "      <td>14</td>\n",
       "      <td>Tue</td>\n",
       "      <td>AKLKUL</td>\n",
       "      <td>Malaysia</td>\n",
       "      <td>0</td>\n",
       "      <td>0</td>\n",
       "      <td>0</td>\n",
       "      <td>8.83</td>\n",
       "      <td>1</td>\n",
       "    </tr>\n",
       "  </tbody>\n",
       "</table>\n",
       "</div>"
      ],
      "text/plain": [
       "     num_passengers sales_channel  trip_type  purchase_lead  length_of_stay  \\\n",
       "82                1      Internet  RoundTrip             15              31   \n",
       "86                1      Internet  RoundTrip            156              19   \n",
       "94                1      Internet  RoundTrip            181              87   \n",
       "109               1        Mobile  RoundTrip            127              17   \n",
       "122               1      Internet  RoundTrip             42              17   \n",
       "\n",
       "     flight_hour flight_day   route booking_origin  wants_extra_baggage  \\\n",
       "82            17        Mon  AKLKUL       Malaysia                    0   \n",
       "86            14        Mon  AKLKUL       Malaysia                    1   \n",
       "94             2        Tue  AKLKUL      Singapore                    1   \n",
       "109           16        Tue  AKLKUL       Malaysia                    1   \n",
       "122           14        Tue  AKLKUL       Malaysia                    0   \n",
       "\n",
       "     wants_preferred_seat  wants_in_flight_meals  flight_duration  \\\n",
       "82                      0                      0             8.83   \n",
       "86                      0                      0             8.83   \n",
       "94                      0                      1             8.83   \n",
       "109                     0                      1             8.83   \n",
       "122                     0                      0             8.83   \n",
       "\n",
       "     booking_complete  \n",
       "82                  1  \n",
       "86                  1  \n",
       "94                  1  \n",
       "109                 1  \n",
       "122                 1  "
      ]
     },
     "execution_count": 59,
     "metadata": {},
     "output_type": "execute_result"
    }
   ],
   "source": [
    "sudah = df_cust[df_cust['booking_complete']==1]\n",
    "sudah.head()"
   ]
  },
  {
   "cell_type": "code",
   "execution_count": 60,
   "id": "e0382cdb",
   "metadata": {},
   "outputs": [
    {
     "data": {
      "text/plain": [
       "(7478, 14)"
      ]
     },
     "execution_count": 60,
     "metadata": {},
     "output_type": "execute_result"
    }
   ],
   "source": [
    "sudah.shape"
   ]
  },
  {
   "cell_type": "code",
   "execution_count": 61,
   "id": "23bb18ee",
   "metadata": {},
   "outputs": [
    {
     "data": {
      "text/html": [
       "<div>\n",
       "<style scoped>\n",
       "    .dataframe tbody tr th:only-of-type {\n",
       "        vertical-align: middle;\n",
       "    }\n",
       "\n",
       "    .dataframe tbody tr th {\n",
       "        vertical-align: top;\n",
       "    }\n",
       "\n",
       "    .dataframe thead th {\n",
       "        text-align: right;\n",
       "    }\n",
       "</style>\n",
       "<table border=\"1\" class=\"dataframe\">\n",
       "  <thead>\n",
       "    <tr style=\"text-align: right;\">\n",
       "      <th></th>\n",
       "      <th>num_passengers</th>\n",
       "      <th>sales_channel</th>\n",
       "      <th>trip_type</th>\n",
       "      <th>purchase_lead</th>\n",
       "      <th>length_of_stay</th>\n",
       "      <th>flight_hour</th>\n",
       "      <th>flight_day</th>\n",
       "      <th>route</th>\n",
       "      <th>booking_origin</th>\n",
       "      <th>wants_extra_baggage</th>\n",
       "      <th>wants_preferred_seat</th>\n",
       "      <th>wants_in_flight_meals</th>\n",
       "      <th>flight_duration</th>\n",
       "      <th>booking_complete</th>\n",
       "    </tr>\n",
       "  </thead>\n",
       "  <tbody>\n",
       "    <tr>\n",
       "      <th>0</th>\n",
       "      <td>2</td>\n",
       "      <td>Internet</td>\n",
       "      <td>RoundTrip</td>\n",
       "      <td>262</td>\n",
       "      <td>19</td>\n",
       "      <td>7</td>\n",
       "      <td>Sat</td>\n",
       "      <td>AKLDEL</td>\n",
       "      <td>New Zealand</td>\n",
       "      <td>1</td>\n",
       "      <td>0</td>\n",
       "      <td>0</td>\n",
       "      <td>5.52</td>\n",
       "      <td>0</td>\n",
       "    </tr>\n",
       "    <tr>\n",
       "      <th>1</th>\n",
       "      <td>1</td>\n",
       "      <td>Internet</td>\n",
       "      <td>RoundTrip</td>\n",
       "      <td>112</td>\n",
       "      <td>20</td>\n",
       "      <td>3</td>\n",
       "      <td>Sat</td>\n",
       "      <td>AKLDEL</td>\n",
       "      <td>New Zealand</td>\n",
       "      <td>0</td>\n",
       "      <td>0</td>\n",
       "      <td>0</td>\n",
       "      <td>5.52</td>\n",
       "      <td>0</td>\n",
       "    </tr>\n",
       "    <tr>\n",
       "      <th>2</th>\n",
       "      <td>2</td>\n",
       "      <td>Internet</td>\n",
       "      <td>RoundTrip</td>\n",
       "      <td>243</td>\n",
       "      <td>22</td>\n",
       "      <td>17</td>\n",
       "      <td>Wed</td>\n",
       "      <td>AKLDEL</td>\n",
       "      <td>India</td>\n",
       "      <td>1</td>\n",
       "      <td>1</td>\n",
       "      <td>0</td>\n",
       "      <td>5.52</td>\n",
       "      <td>0</td>\n",
       "    </tr>\n",
       "    <tr>\n",
       "      <th>3</th>\n",
       "      <td>1</td>\n",
       "      <td>Internet</td>\n",
       "      <td>RoundTrip</td>\n",
       "      <td>96</td>\n",
       "      <td>31</td>\n",
       "      <td>4</td>\n",
       "      <td>Sat</td>\n",
       "      <td>AKLDEL</td>\n",
       "      <td>New Zealand</td>\n",
       "      <td>0</td>\n",
       "      <td>0</td>\n",
       "      <td>1</td>\n",
       "      <td>5.52</td>\n",
       "      <td>0</td>\n",
       "    </tr>\n",
       "    <tr>\n",
       "      <th>4</th>\n",
       "      <td>2</td>\n",
       "      <td>Internet</td>\n",
       "      <td>RoundTrip</td>\n",
       "      <td>68</td>\n",
       "      <td>22</td>\n",
       "      <td>15</td>\n",
       "      <td>Wed</td>\n",
       "      <td>AKLDEL</td>\n",
       "      <td>India</td>\n",
       "      <td>1</td>\n",
       "      <td>0</td>\n",
       "      <td>1</td>\n",
       "      <td>5.52</td>\n",
       "      <td>0</td>\n",
       "    </tr>\n",
       "  </tbody>\n",
       "</table>\n",
       "</div>"
      ],
      "text/plain": [
       "   num_passengers sales_channel  trip_type  purchase_lead  length_of_stay  \\\n",
       "0               2      Internet  RoundTrip            262              19   \n",
       "1               1      Internet  RoundTrip            112              20   \n",
       "2               2      Internet  RoundTrip            243              22   \n",
       "3               1      Internet  RoundTrip             96              31   \n",
       "4               2      Internet  RoundTrip             68              22   \n",
       "\n",
       "   flight_hour flight_day   route booking_origin  wants_extra_baggage  \\\n",
       "0            7        Sat  AKLDEL    New Zealand                    1   \n",
       "1            3        Sat  AKLDEL    New Zealand                    0   \n",
       "2           17        Wed  AKLDEL          India                    1   \n",
       "3            4        Sat  AKLDEL    New Zealand                    0   \n",
       "4           15        Wed  AKLDEL          India                    1   \n",
       "\n",
       "   wants_preferred_seat  wants_in_flight_meals  flight_duration  \\\n",
       "0                     0                      0             5.52   \n",
       "1                     0                      0             5.52   \n",
       "2                     1                      0             5.52   \n",
       "3                     0                      1             5.52   \n",
       "4                     0                      1             5.52   \n",
       "\n",
       "   booking_complete  \n",
       "0                 0  \n",
       "1                 0  \n",
       "2                 0  \n",
       "3                 0  \n",
       "4                 0  "
      ]
     },
     "execution_count": 61,
     "metadata": {},
     "output_type": "execute_result"
    }
   ],
   "source": [
    "belom = df_cust[df_cust['booking_complete']==0]\n",
    "belom.head()"
   ]
  },
  {
   "cell_type": "code",
   "execution_count": 62,
   "id": "441f18a2",
   "metadata": {},
   "outputs": [
    {
     "data": {
      "text/plain": [
       "(42522, 14)"
      ]
     },
     "execution_count": 62,
     "metadata": {},
     "output_type": "execute_result"
    }
   ],
   "source": [
    "belom.shape"
   ]
  },
  {
   "cell_type": "code",
   "execution_count": 63,
   "id": "8aaded35",
   "metadata": {},
   "outputs": [
    {
     "data": {
      "text/plain": [
       "0    85.0%\n",
       "1    15.0%\n",
       "Name: booking_complete, dtype: object"
      ]
     },
     "execution_count": 63,
     "metadata": {},
     "output_type": "execute_result"
    }
   ],
   "source": [
    "bc= df_cust.booking_complete.value_counts(normalize=True).mul(100).round(1).astype(str) + '%'\n",
    "bc"
   ]
  },
  {
   "cell_type": "markdown",
   "id": "b3f2bc24",
   "metadata": {},
   "source": [
    "- terdapat 85% customer not booking complete\n",
    "- dan sisanya booking complete"
   ]
  },
  {
   "cell_type": "code",
   "execution_count": null,
   "id": "51235bc7",
   "metadata": {},
   "outputs": [],
   "source": []
  },
  {
   "cell_type": "code",
   "execution_count": null,
   "id": "b3b78f8f",
   "metadata": {},
   "outputs": [],
   "source": []
  }
 ],
 "metadata": {
  "kernelspec": {
   "display_name": "Python 3 (ipykernel)",
   "language": "python",
   "name": "python3"
  },
  "language_info": {
   "codemirror_mode": {
    "name": "ipython",
    "version": 3
   },
   "file_extension": ".py",
   "mimetype": "text/x-python",
   "name": "python",
   "nbconvert_exporter": "python",
   "pygments_lexer": "ipython3",
   "version": "3.9.13"
  }
 },
 "nbformat": 4,
 "nbformat_minor": 5
}
